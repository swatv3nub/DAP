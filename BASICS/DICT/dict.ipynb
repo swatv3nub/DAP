{
 "cells": [
  {
   "cell_type": "code",
   "execution_count": 1,
   "metadata": {},
   "outputs": [
    {
     "name": "stdout",
     "output_type": "stream",
     "text": [
      "{1, 2, 3}\n"
     ]
    }
   ],
   "source": [
    "my_dict = {'a': 1, 'b': 2, 'c': 1, 'd': 3, 'e': 2}\n",
    "unique_values = set(my_dict.values())\n",
    "print(unique_values)\n"
   ]
  },
  {
   "cell_type": "code",
   "execution_count": 2,
   "metadata": {},
   "outputs": [
    {
     "name": "stdout",
     "output_type": "stream",
     "text": [
      "9\n"
     ]
    }
   ],
   "source": [
    "my_dict = {'a': 1, 'b': 2, 'c': 1, 'd': 3, 'e': 2}\n",
    "sum_of_values = sum(my_dict.values())\n",
    "print(sum_of_values)\n"
   ]
  },
  {
   "cell_type": "code",
   "execution_count": 3,
   "metadata": {},
   "outputs": [
    {
     "name": "stdout",
     "output_type": "stream",
     "text": [
      "{'a': 1, 'c': 3}\n"
     ]
    }
   ],
   "source": [
    "my_dict = {'a': 1, 'b': 2, 'c': 3}\n",
    "del my_dict['b']\n",
    "print(my_dict)\n"
   ]
  },
  {
   "cell_type": "code",
   "execution_count": 4,
   "metadata": {},
   "outputs": [
    {
     "name": "stdout",
     "output_type": "stream",
     "text": [
      "[{'name': 'Deba', 'age': 20}, {'name': 'Swanit', 'age': 21}, {'name': 'Kulu', 'age': 21}]\n"
     ]
    }
   ],
   "source": [
    "from operator import itemgetter\n",
    "data = [{'name': 'Swanit', 'age': 21}, {'name': 'Deba', 'age': 20}, {'name': 'Kulu', 'age': 21}]\n",
    "sorted_data = sorted(data, key=itemgetter('age'))\n",
    "print(sorted_data)\n"
   ]
  },
  {
   "cell_type": "code",
   "execution_count": 5,
   "metadata": {},
   "outputs": [
    {
     "name": "stdout",
     "output_type": "stream",
     "text": [
      "[{'name': 'Deba', 'age': 20}, {'name': 'Swanit', 'age': 21}, {'name': 'Kulu', 'age': 21}]\n"
     ]
    }
   ],
   "source": [
    "data = [{'name': 'Swanit', 'age': 21}, {'name': 'Deba', 'age': 20}, {'name': 'Kulu', 'age': 21}]\n",
    "sorted_data = sorted(data, key=lambda x: x['age'])\n",
    "print(sorted_data)\n"
   ]
  },
  {
   "cell_type": "code",
   "execution_count": 16,
   "metadata": {},
   "outputs": [
    {
     "name": "stdout",
     "output_type": "stream",
     "text": [
      "{'a': 1, 'b': 2, 'c': 3, 'd': 4}\n"
     ]
    }
   ],
   "source": [
    "dict1 = {'a': 1, 'b': 2}\n",
    "dictX = {'c': 3, 'd': 4}\n",
    "\n",
    "dict1.update(dictX)\n",
    "print(dict1)\n"
   ]
  },
  {
   "cell_type": "code",
   "execution_count": 8,
   "metadata": {},
   "outputs": [
    {
     "name": "stdout",
     "output_type": "stream",
     "text": [
      "{'k1': 'v1', 'k2': 'v2', 'k3': 'v3'}\n"
     ]
    }
   ],
   "source": [
    "keys = [('k1', 'v1'), ('k2', 'v2'), ('k3', 'v3')]\n",
    "flat_dict = {key: value for key, value in keys}\n",
    "print(flat_dict)\n"
   ]
  },
  {
   "cell_type": "code",
   "execution_count": 11,
   "metadata": {},
   "outputs": [
    {
     "name": "stdout",
     "output_type": "stream",
     "text": [
      "False\n"
     ]
    }
   ],
   "source": [
    "from collections import OrderedDict\n",
    "\n",
    "def check_order_of_characters(string):\n",
    "    ordered_dict = OrderedDict()\n",
    "    for char in string:\n",
    "        ordered_dict[char] = ordered_dict.get(char, 0) + 1\n",
    "    \n",
    "    ordered_string = ''.join(ordered_dict.keys())\n",
    "    return ordered_string == string\n",
    "\n",
    "string = \"hello\"\n",
    "is_ordered = check_order_of_characters(string)\n",
    "print(is_ordered)\n"
   ]
  },
  {
   "cell_type": "code",
   "execution_count": 12,
   "metadata": {},
   "outputs": [
    {
     "name": "stdout",
     "output_type": "stream",
     "text": [
      "The winner of the election is: Modi\n"
     ]
    }
   ],
   "source": [
    "from collections import Counter\n",
    "\n",
    "votes = ['Modi', 'Rahul', 'Modi', 'Kejriwal', 'Rahul', 'Modi']\n",
    "\n",
    "vote_count = Counter(votes)\n",
    "winner = vote_count.most_common(1)[0][0]\n",
    "\n",
    "print(\"The winner of the election is:\", winner)\n"
   ]
  },
  {
   "cell_type": "code",
   "execution_count": 13,
   "metadata": {},
   "outputs": [
    {
     "name": "stdout",
     "output_type": "stream",
     "text": [
      "{'a': 1, 'b': 2, 'c': 3, 'd': 4}\n"
     ]
    }
   ],
   "source": [
    "dict1 = {'a': 1, 'b': 2}\n",
    "dict2 = {'c': 3, 'd': 4}\n",
    "\n",
    "dict1.update(dict2)\n",
    "print(dict1)\n"
   ]
  },
  {
   "cell_type": "code",
   "execution_count": 1,
   "metadata": {},
   "outputs": [
    {
     "name": "stdout",
     "output_type": "stream",
     "text": [
      "{'a': 1, 'b': 2, 'c': 3, 'd': 4}\n"
     ]
    }
   ],
   "source": [
    "my_dict = {'b': 2, 'a': 1, 'd': 4, 'c': 3}\n",
    "sorted_dict_by_value = dict(sorted(my_dict.items(), key=lambda x: x[1]))\n",
    "print(sorted_dict_by_value)\n"
   ]
  },
  {
   "cell_type": "code",
   "execution_count": 3,
   "metadata": {},
   "outputs": [
    {
     "name": "stdout",
     "output_type": "stream",
     "text": [
      "{'a': 1, 'b': 3, 'c': 2, 'd': 4}\n",
      "{'a': 1, 'c': 2, 'b': 3, 'd': 4}\n"
     ]
    }
   ],
   "source": [
    "my_dict = {'b': 3, 'a': 1, 'd': 4, 'c': 2}\n",
    "\n",
    "# Sort by keys\n",
    "sorted_dict_by_key = dict(sorted(my_dict.items(), key=lambda x: x[0]))\n",
    "print(sorted_dict_by_key)\n",
    "\n",
    "# Sort by values\n",
    "sorted_dict_by_value = dict(sorted(my_dict.items(), key=lambda x: x[1]))\n",
    "print(sorted_dict_by_value)\n"
   ]
  },
  {
   "cell_type": "code",
   "execution_count": 5,
   "metadata": {},
   "outputs": [
    {
     "name": "stdout",
     "output_type": "stream",
     "text": [
      "1\n"
     ]
    }
   ],
   "source": [
    "my_dict = {'a': 1, 'b': 2, 'c': 3}\n",
    "value = my_dict.get('a', 'default_value')\n",
    "print(value)\n"
   ]
  },
  {
   "cell_type": "code",
   "execution_count": 8,
   "metadata": {},
   "outputs": [
    {
     "name": "stdout",
     "output_type": "stream",
     "text": [
      "['cat', 'tac', 'act']\n",
      "['dog', 'god']\n"
     ]
    }
   ],
   "source": [
    "def print_anagrams_together(words):\n",
    "    anagram_dict = {}\n",
    "    \n",
    "    for word in words:\n",
    "        sorted_word = ''.join(sorted(word))\n",
    "        if sorted_word in anagram_dict:\n",
    "            anagram_dict[sorted_word].append(word)\n",
    "        else:\n",
    "            anagram_dict[sorted_word] = [word]\n",
    "    \n",
    "    for anagram_list in anagram_dict.values():\n",
    "        print(anagram_list)\n",
    "\n",
    "words = ['cat', 'dog', 'tac', 'god', 'act']\n",
    "print_anagrams_together(words)\n"
   ]
  },
  {
   "cell_type": "code",
   "execution_count": 12,
   "metadata": {},
   "outputs": [
    {
     "name": "stdout",
     "output_type": "stream",
     "text": [
      "The 4th non-repeating character in 'hello Bois' is: B\n"
     ]
    }
   ],
   "source": [
    "from collections import OrderedDict\n",
    "\n",
    "def find_kth_non_repeating_character(string, k):\n",
    "    ordered_dict = OrderedDict()\n",
    "    for char in string:\n",
    "        ordered_dict[char] = ordered_dict.get(char, 0) + 1\n",
    "    \n",
    "    non_repeating_chars = [char for char, count in ordered_dict.items() if count == 1]\n",
    "    \n",
    "    if len(non_repeating_chars) >= k:\n",
    "        return non_repeating_chars[k-1]\n",
    "    else:\n",
    "        return None\n",
    "\n",
    "string = \"hello Bois\"\n",
    "k = 4\n",
    "kth_non_repeating_char = find_kth_non_repeating_character(string, k)\n",
    "print(f\"The {k}th non-repeating character in '{string}' is: {kth_non_repeating_char}\")\n"
   ]
  },
  {
   "cell_type": "code",
   "execution_count": 13,
   "metadata": {},
   "outputs": [
    {
     "name": "stdout",
     "output_type": "stream",
     "text": [
      "The binary representations of 5 and 10 are anagrams: False\n"
     ]
    }
   ],
   "source": [
    "def are_binary_anagrams(num1, num2):\n",
    "    binary1 = bin(num1)[2:]  \n",
    "    binary2 = bin(num2)[2:] \n",
    "    \n",
    "    return sorted(binary1) == sorted(binary2)\n",
    "\n",
    "num1 = 5\n",
    "num2 = 10\n",
    "result = are_binary_anagrams(num1, num2)\n",
    "print(f\"The binary representations of {num1} and {num2} are anagrams: {result}\")\n"
   ]
  },
  {
   "cell_type": "code",
   "execution_count": 14,
   "metadata": {},
   "outputs": [
    {
     "name": "stdout",
     "output_type": "stream",
     "text": [
      "Size of the largest subset of anagram words: 3\n"
     ]
    }
   ],
   "source": [
    "from collections import Counter\n",
    "\n",
    "def largest_anagram_subset(words):\n",
    "    anagram_counter = Counter(''.join(sorted(word)) for word in words)\n",
    "    return max(anagram_counter.values())\n",
    "\n",
    "words = ['cat', 'dog', 'tac', 'god', 'act']\n",
    "largest_subset_size = largest_anagram_subset(words)\n",
    "print(\"Size of the largest subset of anagram words:\", largest_subset_size)\n"
   ]
  },
  {
   "cell_type": "code",
   "execution_count": 16,
   "metadata": {},
   "outputs": [
    {
     "name": "stdout",
     "output_type": "stream",
     "text": [
      "['Hello', 'Mic', 'Check']\n"
     ]
    }
   ],
   "source": [
    "sentence = \"Hello Hello Mic Check\"\n",
    "word_list = sentence.split()\n",
    "\n",
    "word_dict = {}\n",
    "for word in word_list:\n",
    "    word_dict[word] = word_dict.get(word, 0) + 1\n",
    "\n",
    "unique_words = list(word_dict.keys())\n",
    "\n",
    "print(unique_words)\n"
   ]
  },
  {
   "cell_type": "code",
   "execution_count": 17,
   "metadata": {},
   "outputs": [
    {
     "name": "stdout",
     "output_type": "stream",
     "text": [
      "Mirror characters in the string: ['s', 'v', 'o', 'o', 'l', 'd', 'l', 'i', 'o', 'w']\n"
     ]
    }
   ],
   "source": [
    "def find_mirror_characters(string):\n",
    "    mirror_dict = {'a': 'z', 'b': 'y', 'c': 'x', 'd': 'w', 'e': 'v', 'f': 'u', 'g': 't', 'h': 's', 'i': 'r', 'j': 'q', 'k': 'p', 'l': 'o', 'm': 'n', 'n': 'm', 'o': 'l', 'p': 'k', 'q': 'j', 'r': 'i', 's': 'h', 't': 'g', 'u': 'f', 'v': 'e', 'w': 'd', 'x': 'c', 'y': 'b', 'z': 'a'}\n",
    "    \n",
    "    mirror_chars = []\n",
    "    for char in string:\n",
    "        if char.lower() in mirror_dict:\n",
    "            mirror_chars.append(mirror_dict[char.lower()])\n",
    "    \n",
    "    return mirror_chars\n",
    "\n",
    "string = \"Hello World\"\n",
    "mirror_characters = find_mirror_characters(string)\n",
    "print(\"Mirror characters in the string:\", mirror_characters)\n"
   ]
  },
  {
   "cell_type": "code",
   "execution_count": 18,
   "metadata": {},
   "outputs": [
    {
     "name": "stdout",
     "output_type": "stream",
     "text": [
      "{1: 2, 2: 2, 3: 2, 4: 3, 5: 1}\n"
     ]
    }
   ],
   "source": [
    "def count_frequencies(lst):\n",
    "    frequency_dict = {}\n",
    "    for item in lst:\n",
    "        if item in frequency_dict:\n",
    "            frequency_dict[item] += 1\n",
    "        else:\n",
    "            frequency_dict[item] = 1\n",
    "    return frequency_dict\n",
    "\n",
    "my_list = [1, 2, 3, 2, 1, 3, 4, 5, 4, 4]\n",
    "frequency_dict = count_frequencies(my_list)\n",
    "print(frequency_dict)\n"
   ]
  },
  {
   "cell_type": "code",
   "execution_count": 19,
   "metadata": {},
   "outputs": [
    {
     "name": "stdout",
     "output_type": "stream",
     "text": [
      "{'a': 1, 'b': 2, 'c': 3}\n"
     ]
    }
   ],
   "source": [
    "my_list = [('a', 1), ('b', 2), ('c', 3)]\n",
    "my_dict = dict(my_list)\n",
    "print(my_dict)\n"
   ]
  },
  {
   "cell_type": "code",
   "execution_count": 20,
   "metadata": {},
   "outputs": [
    {
     "name": "stdout",
     "output_type": "stream",
     "text": [
      "Resulting string: aeg\n"
     ]
    }
   ],
   "source": [
    "from collections import Counter\n",
    "\n",
    "def make_string_using_deletion_and_rearrangement(str1, str2):\n",
    "    count_str1 = Counter(str1)\n",
    "    count_str2 = Counter(str2)\n",
    "\n",
    "    intersection = count_str1 & count_str2\n",
    "    remaining = count_str1 - intersection\n",
    "    result = ''.join(sorted(remaining.elements()))\n",
    "    return result\n",
    "str1 = \"abcdefg\"\n",
    "str2 = \"bcdfh\"\n",
    "result = make_string_using_deletion_and_rearrangement(str1, str2)\n",
    "print(\"Resulting string:\", result)"
   ]
  },
  {
   "cell_type": "code",
   "execution_count": 23,
   "metadata": {},
   "outputs": [
    {
     "name": "stdout",
     "output_type": "stream",
     "text": [
      "Can frequencies become the same? False\n"
     ]
    }
   ],
   "source": [
    "from collections import Counter\n",
    "\n",
    "def check_frequencies(string):\n",
    "    frequencies = Counter(string)\n",
    "    unique_frequencies = set(frequencies.values())\n",
    "    if len(unique_frequencies) == 1:\n",
    "        return True\n",
    "    if len(unique_frequencies) == 2 and 1 in unique_frequencies:\n",
    "        return True\n",
    "    if len(unique_frequencies) == 2 and abs(unique_frequencies.pop() - unique_frequencies.pop()) == 1:\n",
    "        return True\n",
    "    return False\n",
    "\n",
    "string = \"wefwefvwerfgvwrfgrwd\"\n",
    "result = check_frequencies(string)\n",
    "print(\"Can frequencies become the same?\", result)\n"
   ]
  },
  {
   "cell_type": "code",
   "execution_count": 29,
   "metadata": {},
   "outputs": [
    {
     "name": "stdout",
     "output_type": "stream",
     "text": [
      "[]\n"
     ]
    }
   ],
   "source": [
    "import requests\n",
    "from bs4 import BeautifulSoup\n",
    "\n",
    "def scrape_dictionary(letter): #taken from my old telegram userbot's code\n",
    "    url = f\"https://www.dictionary.com/list/{letter}\"\n",
    "    response = requests.get(url)\n",
    "    soup = BeautifulSoup(response.text, 'html.parser') #idk how to use other html parser except BSoup, and BSoup is no longer working in this website\n",
    "    words = soup.find_all('li', {'class': 'wordlist-item'})\n",
    "    ordered_words = [word.text.strip() for word in words]\n",
    "    return ordered_words\n",
    "\n",
    "def main():\n",
    "    letter = input(\"Enter a letter: \")\n",
    "    ordered_words = scrape_dictionary(letter)\n",
    "    print(ordered_words)\n",
    "\n",
    "if __name__ == \"__main__\":\n",
    "    main()"
   ]
  },
  {
   "cell_type": "code",
   "execution_count": 31,
   "metadata": {},
   "outputs": [
    {
     "name": "stdout",
     "output_type": "stream",
     "text": [
      "['x', 'y', 'z', 'xy', 'xz', 'yx', 'yz', 'zx', 'zy', 'xyz', 'xzy', 'yxz', 'yzx', 'zxy', 'zyx']\n"
     ]
    }
   ],
   "source": [
    "import itertools\n",
    "\n",
    "def generate_possible_words(characters):\n",
    "    possible_words = []\n",
    "    for length in range(1, len(characters) + 1):\n",
    "        for combination in itertools.permutations(characters, length):\n",
    "            word = ''.join(combination)\n",
    "            possible_words.append(word)\n",
    "    return possible_words\n",
    "\n",
    "characters = 'xyz'\n",
    "possible_words = generate_possible_words(characters)\n",
    "print(possible_words)\n"
   ]
  },
  {
   "cell_type": "code",
   "execution_count": 32,
   "metadata": {},
   "outputs": [
    {
     "name": "stdout",
     "output_type": "stream",
     "text": [
      "['a', 'c']\n"
     ]
    }
   ],
   "source": [
    "def get_keys_by_value(dictionary, value):\n",
    "    keys = [key for key, val in dictionary.items() if val == value]\n",
    "    return keys\n",
    "my_dict = {'a': 1, 'b': 2, 'c': 1, 'd': 3, 'e': 2}\n",
    "value = 1\n",
    "keys = get_keys_by_value(my_dict, value)\n",
    "print(keys)\n"
   ]
  }
 ],
 "metadata": {
  "kernelspec": {
   "display_name": "Python 3",
   "language": "python",
   "name": "python3"
  },
  "language_info": {
   "codemirror_mode": {
    "name": "ipython",
    "version": 3
   },
   "file_extension": ".py",
   "mimetype": "text/x-python",
   "name": "python",
   "nbconvert_exporter": "python",
   "pygments_lexer": "ipython3",
   "version": "3.11.5"
  }
 },
 "nbformat": 4,
 "nbformat_minor": 2
}
