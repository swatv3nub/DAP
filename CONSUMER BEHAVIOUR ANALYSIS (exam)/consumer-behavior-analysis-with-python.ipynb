{
 "cells": [
  {
   "cell_type": "markdown",
   "id": "83db6506",
   "metadata": {
    "papermill": {
     "duration": 0.013525,
     "end_time": "2024-01-24T00:56:26.796378",
     "exception": false,
     "start_time": "2024-01-24T00:56:26.782853",
     "status": "completed"
    },
    "tags": []
   },
   "source": [
    "# Consumer Behaviour Analysis\n",
    "\n",
    "Investigate the impact of various factors, including seasonality, item attributes (size and color), and promotional activities (discounts and promotions), on customer purchase decisions. Which products perform better in specific seasons? \n",
    "\n",
    "Analyze the relationship between customer demographics (age and gender) and their purchase behavior."
   ]
  },
  {
   "cell_type": "code",
   "execution_count": 2,
   "id": "2a35b71d",
   "metadata": {
    "execution": {
     "iopub.execute_input": "2024-01-24T00:56:26.828403Z",
     "iopub.status.busy": "2024-01-24T00:56:26.827344Z",
     "iopub.status.idle": "2024-01-24T00:56:27.846160Z",
     "shell.execute_reply": "2024-01-24T00:56:27.844407Z"
    },
    "papermill": {
     "duration": 1.039082,
     "end_time": "2024-01-24T00:56:27.849414",
     "exception": false,
     "start_time": "2024-01-24T00:56:26.810332",
     "status": "completed"
    },
    "tags": []
   },
   "outputs": [],
   "source": [
    "# Import libraries \n",
    "import  plotly.express as px\n",
    "import pandas as pd\n",
    "import numpy as np\n",
    "import matplotlib.pyplot as plt"
   ]
  },
  {
   "cell_type": "code",
   "execution_count": 3,
   "id": "ad519119",
   "metadata": {
    "execution": {
     "iopub.execute_input": "2024-01-24T00:56:27.880784Z",
     "iopub.status.busy": "2024-01-24T00:56:27.880160Z",
     "iopub.status.idle": "2024-01-24T00:56:27.950932Z",
     "shell.execute_reply": "2024-01-24T00:56:27.949292Z"
    },
    "papermill": {
     "duration": 0.089728,
     "end_time": "2024-01-24T00:56:27.954037",
     "exception": false,
     "start_time": "2024-01-24T00:56:27.864309",
     "status": "completed"
    },
    "tags": []
   },
   "outputs": [
    {
     "data": {
      "text/html": [
       "<div>\n",
       "<style scoped>\n",
       "    .dataframe tbody tr th:only-of-type {\n",
       "        vertical-align: middle;\n",
       "    }\n",
       "\n",
       "    .dataframe tbody tr th {\n",
       "        vertical-align: top;\n",
       "    }\n",
       "\n",
       "    .dataframe thead th {\n",
       "        text-align: right;\n",
       "    }\n",
       "</style>\n",
       "<table border=\"1\" class=\"dataframe\">\n",
       "  <thead>\n",
       "    <tr style=\"text-align: right;\">\n",
       "      <th></th>\n",
       "      <th>Customer ID</th>\n",
       "      <th>Age</th>\n",
       "      <th>Gender</th>\n",
       "      <th>Item Purchased</th>\n",
       "      <th>Category</th>\n",
       "      <th>Purchase Amount (USD)</th>\n",
       "      <th>Location</th>\n",
       "      <th>Size</th>\n",
       "      <th>Color</th>\n",
       "      <th>Season</th>\n",
       "      <th>Review Rating</th>\n",
       "      <th>Subscription Status</th>\n",
       "      <th>Shipping Type</th>\n",
       "      <th>Discount Applied</th>\n",
       "      <th>Promo Code Used</th>\n",
       "      <th>Previous Purchases</th>\n",
       "      <th>Payment Method</th>\n",
       "      <th>Frequency of Purchases</th>\n",
       "    </tr>\n",
       "  </thead>\n",
       "  <tbody>\n",
       "    <tr>\n",
       "      <th>0</th>\n",
       "      <td>1</td>\n",
       "      <td>55</td>\n",
       "      <td>Male</td>\n",
       "      <td>Blouse</td>\n",
       "      <td>Clothing</td>\n",
       "      <td>53</td>\n",
       "      <td>Kentucky</td>\n",
       "      <td>L</td>\n",
       "      <td>Gray</td>\n",
       "      <td>Winter</td>\n",
       "      <td>3.1</td>\n",
       "      <td>Yes</td>\n",
       "      <td>Express</td>\n",
       "      <td>Yes</td>\n",
       "      <td>Yes</td>\n",
       "      <td>14</td>\n",
       "      <td>Venmo</td>\n",
       "      <td>Fortnightly</td>\n",
       "    </tr>\n",
       "    <tr>\n",
       "      <th>1</th>\n",
       "      <td>2</td>\n",
       "      <td>19</td>\n",
       "      <td>Male</td>\n",
       "      <td>Sweater</td>\n",
       "      <td>Clothing</td>\n",
       "      <td>64</td>\n",
       "      <td>Maine</td>\n",
       "      <td>L</td>\n",
       "      <td>Maroon</td>\n",
       "      <td>Winter</td>\n",
       "      <td>3.1</td>\n",
       "      <td>Yes</td>\n",
       "      <td>Express</td>\n",
       "      <td>Yes</td>\n",
       "      <td>Yes</td>\n",
       "      <td>2</td>\n",
       "      <td>Cash</td>\n",
       "      <td>Fortnightly</td>\n",
       "    </tr>\n",
       "    <tr>\n",
       "      <th>2</th>\n",
       "      <td>3</td>\n",
       "      <td>50</td>\n",
       "      <td>Male</td>\n",
       "      <td>Jeans</td>\n",
       "      <td>Clothing</td>\n",
       "      <td>73</td>\n",
       "      <td>Massachusetts</td>\n",
       "      <td>S</td>\n",
       "      <td>Maroon</td>\n",
       "      <td>Spring</td>\n",
       "      <td>3.1</td>\n",
       "      <td>Yes</td>\n",
       "      <td>Free Shipping</td>\n",
       "      <td>Yes</td>\n",
       "      <td>Yes</td>\n",
       "      <td>23</td>\n",
       "      <td>Credit Card</td>\n",
       "      <td>Weekly</td>\n",
       "    </tr>\n",
       "    <tr>\n",
       "      <th>3</th>\n",
       "      <td>4</td>\n",
       "      <td>21</td>\n",
       "      <td>Male</td>\n",
       "      <td>Sandals</td>\n",
       "      <td>Footwear</td>\n",
       "      <td>90</td>\n",
       "      <td>Rhode Island</td>\n",
       "      <td>M</td>\n",
       "      <td>Maroon</td>\n",
       "      <td>Spring</td>\n",
       "      <td>3.5</td>\n",
       "      <td>Yes</td>\n",
       "      <td>Next Day Air</td>\n",
       "      <td>Yes</td>\n",
       "      <td>Yes</td>\n",
       "      <td>49</td>\n",
       "      <td>PayPal</td>\n",
       "      <td>Weekly</td>\n",
       "    </tr>\n",
       "    <tr>\n",
       "      <th>4</th>\n",
       "      <td>5</td>\n",
       "      <td>45</td>\n",
       "      <td>Male</td>\n",
       "      <td>Blouse</td>\n",
       "      <td>Clothing</td>\n",
       "      <td>49</td>\n",
       "      <td>Oregon</td>\n",
       "      <td>M</td>\n",
       "      <td>Turquoise</td>\n",
       "      <td>Spring</td>\n",
       "      <td>2.7</td>\n",
       "      <td>Yes</td>\n",
       "      <td>Free Shipping</td>\n",
       "      <td>Yes</td>\n",
       "      <td>Yes</td>\n",
       "      <td>31</td>\n",
       "      <td>PayPal</td>\n",
       "      <td>Annually</td>\n",
       "    </tr>\n",
       "  </tbody>\n",
       "</table>\n",
       "</div>"
      ],
      "text/plain": [
       "   Customer ID  Age Gender Item Purchased  Category  Purchase Amount (USD)  \\\n",
       "0            1   55   Male         Blouse  Clothing                     53   \n",
       "1            2   19   Male        Sweater  Clothing                     64   \n",
       "2            3   50   Male          Jeans  Clothing                     73   \n",
       "3            4   21   Male        Sandals  Footwear                     90   \n",
       "4            5   45   Male         Blouse  Clothing                     49   \n",
       "\n",
       "        Location Size      Color  Season  Review Rating Subscription Status  \\\n",
       "0       Kentucky    L       Gray  Winter            3.1                 Yes   \n",
       "1          Maine    L     Maroon  Winter            3.1                 Yes   \n",
       "2  Massachusetts    S     Maroon  Spring            3.1                 Yes   \n",
       "3   Rhode Island    M     Maroon  Spring            3.5                 Yes   \n",
       "4         Oregon    M  Turquoise  Spring            2.7                 Yes   \n",
       "\n",
       "   Shipping Type Discount Applied Promo Code Used  Previous Purchases  \\\n",
       "0        Express              Yes             Yes                  14   \n",
       "1        Express              Yes             Yes                   2   \n",
       "2  Free Shipping              Yes             Yes                  23   \n",
       "3   Next Day Air              Yes             Yes                  49   \n",
       "4  Free Shipping              Yes             Yes                  31   \n",
       "\n",
       "  Payment Method Frequency of Purchases  \n",
       "0          Venmo            Fortnightly  \n",
       "1           Cash            Fortnightly  \n",
       "2    Credit Card                 Weekly  \n",
       "3         PayPal                 Weekly  \n",
       "4         PayPal               Annually  "
      ]
     },
     "execution_count": 3,
     "metadata": {},
     "output_type": "execute_result"
    }
   ],
   "source": [
    "# Import dataset \n",
    "data=pd.read_csv(\"shopping_behavior_updated.csv\")\n",
    "data.head()"
   ]
  },
  {
   "cell_type": "code",
   "execution_count": 4,
   "id": "8cd4f82d",
   "metadata": {
    "execution": {
     "iopub.execute_input": "2024-01-24T00:56:27.985979Z",
     "iopub.status.busy": "2024-01-24T00:56:27.985573Z",
     "iopub.status.idle": "2024-01-24T00:56:28.019523Z",
     "shell.execute_reply": "2024-01-24T00:56:28.017786Z"
    },
    "papermill": {
     "duration": 0.053544,
     "end_time": "2024-01-24T00:56:28.022563",
     "exception": false,
     "start_time": "2024-01-24T00:56:27.969019",
     "status": "completed"
    },
    "tags": []
   },
   "outputs": [
    {
     "name": "stdout",
     "output_type": "stream",
     "text": [
      "<class 'pandas.core.frame.DataFrame'>\n",
      "RangeIndex: 3900 entries, 0 to 3899\n",
      "Data columns (total 18 columns):\n",
      " #   Column                  Non-Null Count  Dtype  \n",
      "---  ------                  --------------  -----  \n",
      " 0   Customer ID             3900 non-null   int64  \n",
      " 1   Age                     3900 non-null   int64  \n",
      " 2   Gender                  3900 non-null   object \n",
      " 3   Item Purchased          3900 non-null   object \n",
      " 4   Category                3900 non-null   object \n",
      " 5   Purchase Amount (USD)   3900 non-null   int64  \n",
      " 6   Location                3900 non-null   object \n",
      " 7   Size                    3900 non-null   object \n",
      " 8   Color                   3900 non-null   object \n",
      " 9   Season                  3900 non-null   object \n",
      " 10  Review Rating           3900 non-null   float64\n",
      " 11  Subscription Status     3900 non-null   object \n",
      " 12  Shipping Type           3900 non-null   object \n",
      " 13  Discount Applied        3900 non-null   object \n",
      " 14  Promo Code Used         3900 non-null   object \n",
      " 15  Previous Purchases      3900 non-null   int64  \n",
      " 16  Payment Method          3900 non-null   object \n",
      " 17  Frequency of Purchases  3900 non-null   object \n",
      "dtypes: float64(1), int64(4), object(13)\n",
      "memory usage: 548.6+ KB\n"
     ]
    }
   ],
   "source": [
    "# Info about the data \n",
    "\n",
    "data.info()"
   ]
  },
  {
   "cell_type": "code",
   "execution_count": 5,
   "id": "4d9fbfbe",
   "metadata": {
    "execution": {
     "iopub.execute_input": "2024-01-24T00:56:28.053583Z",
     "iopub.status.busy": "2024-01-24T00:56:28.053033Z",
     "iopub.status.idle": "2024-01-24T00:56:28.062100Z",
     "shell.execute_reply": "2024-01-24T00:56:28.060729Z"
    },
    "papermill": {
     "duration": 0.027538,
     "end_time": "2024-01-24T00:56:28.064892",
     "exception": false,
     "start_time": "2024-01-24T00:56:28.037354",
     "status": "completed"
    },
    "tags": []
   },
   "outputs": [
    {
     "data": {
      "text/plain": [
       "(3900, 18)"
      ]
     },
     "execution_count": 5,
     "metadata": {},
     "output_type": "execute_result"
    }
   ],
   "source": [
    "# Inspect the shape \n",
    "\n",
    "data.shape"
   ]
  },
  {
   "cell_type": "code",
   "execution_count": 6,
   "id": "af5353ed",
   "metadata": {
    "execution": {
     "iopub.execute_input": "2024-01-24T00:56:28.095929Z",
     "iopub.status.busy": "2024-01-24T00:56:28.095431Z",
     "iopub.status.idle": "2024-01-24T00:56:28.127986Z",
     "shell.execute_reply": "2024-01-24T00:56:28.126509Z"
    },
    "papermill": {
     "duration": 0.051041,
     "end_time": "2024-01-24T00:56:28.130718",
     "exception": false,
     "start_time": "2024-01-24T00:56:28.079677",
     "status": "completed"
    },
    "tags": []
   },
   "outputs": [
    {
     "data": {
      "text/html": [
       "<div>\n",
       "<style scoped>\n",
       "    .dataframe tbody tr th:only-of-type {\n",
       "        vertical-align: middle;\n",
       "    }\n",
       "\n",
       "    .dataframe tbody tr th {\n",
       "        vertical-align: top;\n",
       "    }\n",
       "\n",
       "    .dataframe thead th {\n",
       "        text-align: right;\n",
       "    }\n",
       "</style>\n",
       "<table border=\"1\" class=\"dataframe\">\n",
       "  <thead>\n",
       "    <tr style=\"text-align: right;\">\n",
       "      <th></th>\n",
       "      <th>Customer ID</th>\n",
       "      <th>Age</th>\n",
       "      <th>Purchase Amount (USD)</th>\n",
       "      <th>Review Rating</th>\n",
       "      <th>Previous Purchases</th>\n",
       "    </tr>\n",
       "  </thead>\n",
       "  <tbody>\n",
       "    <tr>\n",
       "      <th>count</th>\n",
       "      <td>3900.000000</td>\n",
       "      <td>3900.000000</td>\n",
       "      <td>3900.000000</td>\n",
       "      <td>3900.000000</td>\n",
       "      <td>3900.000000</td>\n",
       "    </tr>\n",
       "    <tr>\n",
       "      <th>mean</th>\n",
       "      <td>1950.500000</td>\n",
       "      <td>44.068462</td>\n",
       "      <td>59.764359</td>\n",
       "      <td>3.749949</td>\n",
       "      <td>25.351538</td>\n",
       "    </tr>\n",
       "    <tr>\n",
       "      <th>std</th>\n",
       "      <td>1125.977353</td>\n",
       "      <td>15.207589</td>\n",
       "      <td>23.685392</td>\n",
       "      <td>0.716223</td>\n",
       "      <td>14.447125</td>\n",
       "    </tr>\n",
       "    <tr>\n",
       "      <th>min</th>\n",
       "      <td>1.000000</td>\n",
       "      <td>18.000000</td>\n",
       "      <td>20.000000</td>\n",
       "      <td>2.500000</td>\n",
       "      <td>1.000000</td>\n",
       "    </tr>\n",
       "    <tr>\n",
       "      <th>25%</th>\n",
       "      <td>975.750000</td>\n",
       "      <td>31.000000</td>\n",
       "      <td>39.000000</td>\n",
       "      <td>3.100000</td>\n",
       "      <td>13.000000</td>\n",
       "    </tr>\n",
       "    <tr>\n",
       "      <th>50%</th>\n",
       "      <td>1950.500000</td>\n",
       "      <td>44.000000</td>\n",
       "      <td>60.000000</td>\n",
       "      <td>3.700000</td>\n",
       "      <td>25.000000</td>\n",
       "    </tr>\n",
       "    <tr>\n",
       "      <th>75%</th>\n",
       "      <td>2925.250000</td>\n",
       "      <td>57.000000</td>\n",
       "      <td>81.000000</td>\n",
       "      <td>4.400000</td>\n",
       "      <td>38.000000</td>\n",
       "    </tr>\n",
       "    <tr>\n",
       "      <th>max</th>\n",
       "      <td>3900.000000</td>\n",
       "      <td>70.000000</td>\n",
       "      <td>100.000000</td>\n",
       "      <td>5.000000</td>\n",
       "      <td>50.000000</td>\n",
       "    </tr>\n",
       "  </tbody>\n",
       "</table>\n",
       "</div>"
      ],
      "text/plain": [
       "       Customer ID          Age  Purchase Amount (USD)  Review Rating  \\\n",
       "count  3900.000000  3900.000000            3900.000000    3900.000000   \n",
       "mean   1950.500000    44.068462              59.764359       3.749949   \n",
       "std    1125.977353    15.207589              23.685392       0.716223   \n",
       "min       1.000000    18.000000              20.000000       2.500000   \n",
       "25%     975.750000    31.000000              39.000000       3.100000   \n",
       "50%    1950.500000    44.000000              60.000000       3.700000   \n",
       "75%    2925.250000    57.000000              81.000000       4.400000   \n",
       "max    3900.000000    70.000000             100.000000       5.000000   \n",
       "\n",
       "       Previous Purchases  \n",
       "count         3900.000000  \n",
       "mean            25.351538  \n",
       "std             14.447125  \n",
       "min              1.000000  \n",
       "25%             13.000000  \n",
       "50%             25.000000  \n",
       "75%             38.000000  \n",
       "max             50.000000  "
      ]
     },
     "execution_count": 6,
     "metadata": {},
     "output_type": "execute_result"
    }
   ],
   "source": [
    "# Get summary statistics \n",
    "\n",
    "data.describe()"
   ]
  },
  {
   "cell_type": "code",
   "execution_count": 7,
   "id": "17363e3b",
   "metadata": {
    "execution": {
     "iopub.execute_input": "2024-01-24T00:56:28.161303Z",
     "iopub.status.busy": "2024-01-24T00:56:28.160807Z",
     "iopub.status.idle": "2024-01-24T00:56:28.169815Z",
     "shell.execute_reply": "2024-01-24T00:56:28.168358Z"
    },
    "papermill": {
     "duration": 0.027152,
     "end_time": "2024-01-24T00:56:28.172117",
     "exception": false,
     "start_time": "2024-01-24T00:56:28.144965",
     "status": "completed"
    },
    "tags": []
   },
   "outputs": [
    {
     "data": {
      "text/plain": [
       "Index(['Customer ID', 'Age', 'Gender', 'Item Purchased', 'Category',\n",
       "       'Purchase Amount (USD)', 'Location', 'Size', 'Color', 'Season',\n",
       "       'Review Rating', 'Subscription Status', 'Shipping Type',\n",
       "       'Discount Applied', 'Promo Code Used', 'Previous Purchases',\n",
       "       'Payment Method', 'Frequency of Purchases'],\n",
       "      dtype='object')"
      ]
     },
     "execution_count": 7,
     "metadata": {},
     "output_type": "execute_result"
    }
   ],
   "source": [
    "# Inspect the columns \n",
    "\n",
    "data.columns"
   ]
  },
  {
   "cell_type": "code",
   "execution_count": 8,
   "id": "610732d7",
   "metadata": {
    "execution": {
     "iopub.execute_input": "2024-01-24T00:56:28.203407Z",
     "iopub.status.busy": "2024-01-24T00:56:28.203012Z",
     "iopub.status.idle": "2024-01-24T00:56:28.227173Z",
     "shell.execute_reply": "2024-01-24T00:56:28.225923Z"
    },
    "papermill": {
     "duration": 0.043674,
     "end_time": "2024-01-24T00:56:28.230789",
     "exception": false,
     "start_time": "2024-01-24T00:56:28.187115",
     "status": "completed"
    },
    "tags": []
   },
   "outputs": [
    {
     "data": {
      "text/html": [
       "<div>\n",
       "<style scoped>\n",
       "    .dataframe tbody tr th:only-of-type {\n",
       "        vertical-align: middle;\n",
       "    }\n",
       "\n",
       "    .dataframe tbody tr th {\n",
       "        vertical-align: top;\n",
       "    }\n",
       "\n",
       "    .dataframe thead th {\n",
       "        text-align: right;\n",
       "    }\n",
       "</style>\n",
       "<table border=\"1\" class=\"dataframe\">\n",
       "  <thead>\n",
       "    <tr style=\"text-align: right;\">\n",
       "      <th></th>\n",
       "      <th>Customer ID</th>\n",
       "      <th>Age</th>\n",
       "      <th>Gender</th>\n",
       "      <th>Item Purchased</th>\n",
       "      <th>Category</th>\n",
       "      <th>Purchase Amount (USD)</th>\n",
       "      <th>Location</th>\n",
       "      <th>Size</th>\n",
       "      <th>Color</th>\n",
       "      <th>Season</th>\n",
       "      <th>Review Rating</th>\n",
       "      <th>Subscription Status</th>\n",
       "      <th>Shipping Type</th>\n",
       "      <th>Discount Applied</th>\n",
       "      <th>Promo Code Used</th>\n",
       "      <th>Previous Purchases</th>\n",
       "      <th>Payment Method</th>\n",
       "      <th>Frequency of Purchases</th>\n",
       "    </tr>\n",
       "  </thead>\n",
       "  <tbody>\n",
       "    <tr>\n",
       "      <th>0</th>\n",
       "      <td>1</td>\n",
       "      <td>55</td>\n",
       "      <td>Male</td>\n",
       "      <td>Blouse</td>\n",
       "      <td>Clothing</td>\n",
       "      <td>53</td>\n",
       "      <td>Kentucky</td>\n",
       "      <td>L</td>\n",
       "      <td>Gray</td>\n",
       "      <td>Winter</td>\n",
       "      <td>3.1</td>\n",
       "      <td>Yes</td>\n",
       "      <td>Express</td>\n",
       "      <td>Yes</td>\n",
       "      <td>Yes</td>\n",
       "      <td>14</td>\n",
       "      <td>Venmo</td>\n",
       "      <td>Fortnightly</td>\n",
       "    </tr>\n",
       "    <tr>\n",
       "      <th>1</th>\n",
       "      <td>2</td>\n",
       "      <td>19</td>\n",
       "      <td>Male</td>\n",
       "      <td>Sweater</td>\n",
       "      <td>Clothing</td>\n",
       "      <td>64</td>\n",
       "      <td>Maine</td>\n",
       "      <td>L</td>\n",
       "      <td>Maroon</td>\n",
       "      <td>Winter</td>\n",
       "      <td>3.1</td>\n",
       "      <td>Yes</td>\n",
       "      <td>Express</td>\n",
       "      <td>Yes</td>\n",
       "      <td>Yes</td>\n",
       "      <td>2</td>\n",
       "      <td>Cash</td>\n",
       "      <td>Fortnightly</td>\n",
       "    </tr>\n",
       "    <tr>\n",
       "      <th>2</th>\n",
       "      <td>3</td>\n",
       "      <td>50</td>\n",
       "      <td>Male</td>\n",
       "      <td>Jeans</td>\n",
       "      <td>Clothing</td>\n",
       "      <td>73</td>\n",
       "      <td>Massachusetts</td>\n",
       "      <td>S</td>\n",
       "      <td>Maroon</td>\n",
       "      <td>Spring</td>\n",
       "      <td>3.1</td>\n",
       "      <td>Yes</td>\n",
       "      <td>Free Shipping</td>\n",
       "      <td>Yes</td>\n",
       "      <td>Yes</td>\n",
       "      <td>23</td>\n",
       "      <td>Credit Card</td>\n",
       "      <td>Weekly</td>\n",
       "    </tr>\n",
       "    <tr>\n",
       "      <th>3</th>\n",
       "      <td>4</td>\n",
       "      <td>21</td>\n",
       "      <td>Male</td>\n",
       "      <td>Sandals</td>\n",
       "      <td>Footwear</td>\n",
       "      <td>90</td>\n",
       "      <td>Rhode Island</td>\n",
       "      <td>M</td>\n",
       "      <td>Maroon</td>\n",
       "      <td>Spring</td>\n",
       "      <td>3.5</td>\n",
       "      <td>Yes</td>\n",
       "      <td>Next Day Air</td>\n",
       "      <td>Yes</td>\n",
       "      <td>Yes</td>\n",
       "      <td>49</td>\n",
       "      <td>PayPal</td>\n",
       "      <td>Weekly</td>\n",
       "    </tr>\n",
       "    <tr>\n",
       "      <th>4</th>\n",
       "      <td>5</td>\n",
       "      <td>45</td>\n",
       "      <td>Male</td>\n",
       "      <td>Blouse</td>\n",
       "      <td>Clothing</td>\n",
       "      <td>49</td>\n",
       "      <td>Oregon</td>\n",
       "      <td>M</td>\n",
       "      <td>Turquoise</td>\n",
       "      <td>Spring</td>\n",
       "      <td>2.7</td>\n",
       "      <td>Yes</td>\n",
       "      <td>Free Shipping</td>\n",
       "      <td>Yes</td>\n",
       "      <td>Yes</td>\n",
       "      <td>31</td>\n",
       "      <td>PayPal</td>\n",
       "      <td>Annually</td>\n",
       "    </tr>\n",
       "  </tbody>\n",
       "</table>\n",
       "</div>"
      ],
      "text/plain": [
       "   Customer ID  Age Gender Item Purchased  Category  Purchase Amount (USD)  \\\n",
       "0            1   55   Male         Blouse  Clothing                     53   \n",
       "1            2   19   Male        Sweater  Clothing                     64   \n",
       "2            3   50   Male          Jeans  Clothing                     73   \n",
       "3            4   21   Male        Sandals  Footwear                     90   \n",
       "4            5   45   Male         Blouse  Clothing                     49   \n",
       "\n",
       "        Location Size      Color  Season  Review Rating Subscription Status  \\\n",
       "0       Kentucky    L       Gray  Winter            3.1                 Yes   \n",
       "1          Maine    L     Maroon  Winter            3.1                 Yes   \n",
       "2  Massachusetts    S     Maroon  Spring            3.1                 Yes   \n",
       "3   Rhode Island    M     Maroon  Spring            3.5                 Yes   \n",
       "4         Oregon    M  Turquoise  Spring            2.7                 Yes   \n",
       "\n",
       "   Shipping Type Discount Applied Promo Code Used  Previous Purchases  \\\n",
       "0        Express              Yes             Yes                  14   \n",
       "1        Express              Yes             Yes                   2   \n",
       "2  Free Shipping              Yes             Yes                  23   \n",
       "3   Next Day Air              Yes             Yes                  49   \n",
       "4  Free Shipping              Yes             Yes                  31   \n",
       "\n",
       "  Payment Method Frequency of Purchases  \n",
       "0          Venmo            Fortnightly  \n",
       "1           Cash            Fortnightly  \n",
       "2    Credit Card                 Weekly  \n",
       "3         PayPal                 Weekly  \n",
       "4         PayPal               Annually  "
      ]
     },
     "execution_count": 8,
     "metadata": {},
     "output_type": "execute_result"
    }
   ],
   "source": [
    "# Preview the data\n",
    "\n",
    "data.head()"
   ]
  },
  {
   "cell_type": "code",
   "execution_count": 9,
   "id": "c6b187fa",
   "metadata": {
    "execution": {
     "iopub.execute_input": "2024-01-24T00:56:28.265032Z",
     "iopub.status.busy": "2024-01-24T00:56:28.264579Z",
     "iopub.status.idle": "2024-01-24T00:56:28.274991Z",
     "shell.execute_reply": "2024-01-24T00:56:28.273844Z"
    },
    "papermill": {
     "duration": 0.030357,
     "end_time": "2024-01-24T00:56:28.277980",
     "exception": false,
     "start_time": "2024-01-24T00:56:28.247623",
     "status": "completed"
    },
    "tags": []
   },
   "outputs": [],
   "source": [
    "# Check for and remove any unnecessary columns, remove Customer ID column, is it the same as the index\n",
    "\n",
    "data.drop(columns = {\"Customer ID\"}, inplace = True)\n"
   ]
  },
  {
   "cell_type": "code",
   "execution_count": 10,
   "id": "bd723da7",
   "metadata": {
    "execution": {
     "iopub.execute_input": "2024-01-24T00:56:28.311115Z",
     "iopub.status.busy": "2024-01-24T00:56:28.310173Z",
     "iopub.status.idle": "2024-01-24T00:56:28.334734Z",
     "shell.execute_reply": "2024-01-24T00:56:28.333500Z"
    },
    "papermill": {
     "duration": 0.043976,
     "end_time": "2024-01-24T00:56:28.337419",
     "exception": false,
     "start_time": "2024-01-24T00:56:28.293443",
     "status": "completed"
    },
    "tags": []
   },
   "outputs": [
    {
     "data": {
      "text/html": [
       "<div>\n",
       "<style scoped>\n",
       "    .dataframe tbody tr th:only-of-type {\n",
       "        vertical-align: middle;\n",
       "    }\n",
       "\n",
       "    .dataframe tbody tr th {\n",
       "        vertical-align: top;\n",
       "    }\n",
       "\n",
       "    .dataframe thead th {\n",
       "        text-align: right;\n",
       "    }\n",
       "</style>\n",
       "<table border=\"1\" class=\"dataframe\">\n",
       "  <thead>\n",
       "    <tr style=\"text-align: right;\">\n",
       "      <th></th>\n",
       "      <th>Age</th>\n",
       "      <th>Gender</th>\n",
       "      <th>Item Purchased</th>\n",
       "      <th>Category</th>\n",
       "      <th>Purchase Amount (USD)</th>\n",
       "      <th>Location</th>\n",
       "      <th>Size</th>\n",
       "      <th>Color</th>\n",
       "      <th>Season</th>\n",
       "      <th>Review Rating</th>\n",
       "      <th>Subscription Status</th>\n",
       "      <th>Shipping Type</th>\n",
       "      <th>Discount Applied</th>\n",
       "      <th>Promo Code Used</th>\n",
       "      <th>Previous Purchases</th>\n",
       "      <th>Payment Method</th>\n",
       "      <th>Frequency of Purchases</th>\n",
       "    </tr>\n",
       "  </thead>\n",
       "  <tbody>\n",
       "    <tr>\n",
       "      <th>1803</th>\n",
       "      <td>60</td>\n",
       "      <td>Male</td>\n",
       "      <td>Sneakers</td>\n",
       "      <td>Footwear</td>\n",
       "      <td>97</td>\n",
       "      <td>New Hampshire</td>\n",
       "      <td>S</td>\n",
       "      <td>Gray</td>\n",
       "      <td>Summer</td>\n",
       "      <td>3.5</td>\n",
       "      <td>No</td>\n",
       "      <td>Free Shipping</td>\n",
       "      <td>No</td>\n",
       "      <td>No</td>\n",
       "      <td>33</td>\n",
       "      <td>Venmo</td>\n",
       "      <td>Fortnightly</td>\n",
       "    </tr>\n",
       "    <tr>\n",
       "      <th>644</th>\n",
       "      <td>68</td>\n",
       "      <td>Male</td>\n",
       "      <td>Backpack</td>\n",
       "      <td>Accessories</td>\n",
       "      <td>93</td>\n",
       "      <td>Louisiana</td>\n",
       "      <td>S</td>\n",
       "      <td>Blue</td>\n",
       "      <td>Summer</td>\n",
       "      <td>4.3</td>\n",
       "      <td>Yes</td>\n",
       "      <td>Next Day Air</td>\n",
       "      <td>Yes</td>\n",
       "      <td>Yes</td>\n",
       "      <td>37</td>\n",
       "      <td>Cash</td>\n",
       "      <td>Weekly</td>\n",
       "    </tr>\n",
       "    <tr>\n",
       "      <th>1770</th>\n",
       "      <td>53</td>\n",
       "      <td>Male</td>\n",
       "      <td>Backpack</td>\n",
       "      <td>Accessories</td>\n",
       "      <td>22</td>\n",
       "      <td>Michigan</td>\n",
       "      <td>M</td>\n",
       "      <td>Pink</td>\n",
       "      <td>Fall</td>\n",
       "      <td>4.3</td>\n",
       "      <td>No</td>\n",
       "      <td>Express</td>\n",
       "      <td>No</td>\n",
       "      <td>No</td>\n",
       "      <td>34</td>\n",
       "      <td>Bank Transfer</td>\n",
       "      <td>Weekly</td>\n",
       "    </tr>\n",
       "    <tr>\n",
       "      <th>3392</th>\n",
       "      <td>53</td>\n",
       "      <td>Female</td>\n",
       "      <td>Scarf</td>\n",
       "      <td>Accessories</td>\n",
       "      <td>74</td>\n",
       "      <td>New Jersey</td>\n",
       "      <td>XL</td>\n",
       "      <td>Blue</td>\n",
       "      <td>Winter</td>\n",
       "      <td>4.4</td>\n",
       "      <td>No</td>\n",
       "      <td>Free Shipping</td>\n",
       "      <td>No</td>\n",
       "      <td>No</td>\n",
       "      <td>6</td>\n",
       "      <td>Venmo</td>\n",
       "      <td>Bi-Weekly</td>\n",
       "    </tr>\n",
       "    <tr>\n",
       "      <th>682</th>\n",
       "      <td>23</td>\n",
       "      <td>Male</td>\n",
       "      <td>Jacket</td>\n",
       "      <td>Outerwear</td>\n",
       "      <td>29</td>\n",
       "      <td>Missouri</td>\n",
       "      <td>M</td>\n",
       "      <td>Brown</td>\n",
       "      <td>Summer</td>\n",
       "      <td>4.0</td>\n",
       "      <td>Yes</td>\n",
       "      <td>Standard</td>\n",
       "      <td>Yes</td>\n",
       "      <td>Yes</td>\n",
       "      <td>49</td>\n",
       "      <td>Credit Card</td>\n",
       "      <td>Bi-Weekly</td>\n",
       "    </tr>\n",
       "  </tbody>\n",
       "</table>\n",
       "</div>"
      ],
      "text/plain": [
       "      Age  Gender Item Purchased     Category  Purchase Amount (USD)  \\\n",
       "1803   60    Male       Sneakers     Footwear                     97   \n",
       "644    68    Male       Backpack  Accessories                     93   \n",
       "1770   53    Male       Backpack  Accessories                     22   \n",
       "3392   53  Female          Scarf  Accessories                     74   \n",
       "682    23    Male         Jacket    Outerwear                     29   \n",
       "\n",
       "           Location Size  Color  Season  Review Rating Subscription Status  \\\n",
       "1803  New Hampshire    S   Gray  Summer            3.5                  No   \n",
       "644       Louisiana    S   Blue  Summer            4.3                 Yes   \n",
       "1770       Michigan    M   Pink    Fall            4.3                  No   \n",
       "3392     New Jersey   XL   Blue  Winter            4.4                  No   \n",
       "682        Missouri    M  Brown  Summer            4.0                 Yes   \n",
       "\n",
       "      Shipping Type Discount Applied Promo Code Used  Previous Purchases  \\\n",
       "1803  Free Shipping               No              No                  33   \n",
       "644    Next Day Air              Yes             Yes                  37   \n",
       "1770        Express               No              No                  34   \n",
       "3392  Free Shipping               No              No                   6   \n",
       "682        Standard              Yes             Yes                  49   \n",
       "\n",
       "     Payment Method Frequency of Purchases  \n",
       "1803          Venmo            Fortnightly  \n",
       "644            Cash                 Weekly  \n",
       "1770  Bank Transfer                 Weekly  \n",
       "3392          Venmo              Bi-Weekly  \n",
       "682     Credit Card              Bi-Weekly  "
      ]
     },
     "execution_count": 10,
     "metadata": {},
     "output_type": "execute_result"
    }
   ],
   "source": [
    "# Check for changes \n",
    "data.sample(5)"
   ]
  },
  {
   "cell_type": "markdown",
   "id": "4b3da0c9",
   "metadata": {
    "papermill": {
     "duration": 0.014904,
     "end_time": "2024-01-24T00:56:28.367739",
     "exception": false,
     "start_time": "2024-01-24T00:56:28.352835",
     "status": "completed"
    },
    "tags": []
   },
   "source": [
    "## Data Cleaning and Preprocessing "
   ]
  },
  {
   "cell_type": "code",
   "execution_count": 11,
   "id": "0b9382fd",
   "metadata": {
    "execution": {
     "iopub.execute_input": "2024-01-24T00:56:28.400655Z",
     "iopub.status.busy": "2024-01-24T00:56:28.399980Z",
     "iopub.status.idle": "2024-01-24T00:56:28.414494Z",
     "shell.execute_reply": "2024-01-24T00:56:28.413350Z"
    },
    "papermill": {
     "duration": 0.033966,
     "end_time": "2024-01-24T00:56:28.417028",
     "exception": false,
     "start_time": "2024-01-24T00:56:28.383062",
     "status": "completed"
    },
    "tags": []
   },
   "outputs": [
    {
     "data": {
      "text/plain": [
       "Age                       0\n",
       "Gender                    0\n",
       "Item Purchased            0\n",
       "Category                  0\n",
       "Purchase Amount (USD)     0\n",
       "Location                  0\n",
       "Size                      0\n",
       "Color                     0\n",
       "Season                    0\n",
       "Review Rating             0\n",
       "Subscription Status       0\n",
       "Shipping Type             0\n",
       "Discount Applied          0\n",
       "Promo Code Used           0\n",
       "Previous Purchases        0\n",
       "Payment Method            0\n",
       "Frequency of Purchases    0\n",
       "dtype: int64"
      ]
     },
     "execution_count": 11,
     "metadata": {},
     "output_type": "execute_result"
    }
   ],
   "source": [
    "# Finding null values \n",
    "\n",
    "data.isnull().sum()"
   ]
  },
  {
   "cell_type": "markdown",
   "id": "49c6174c",
   "metadata": {
    "papermill": {
     "duration": 0.015249,
     "end_time": "2024-01-24T00:56:28.447667",
     "exception": false,
     "start_time": "2024-01-24T00:56:28.432418",
     "status": "completed"
    },
    "tags": []
   },
   "source": [
    "No entries are null values"
   ]
  },
  {
   "cell_type": "code",
   "execution_count": 12,
   "id": "751f21a8",
   "metadata": {
    "execution": {
     "iopub.execute_input": "2024-01-24T00:56:28.548494Z",
     "iopub.status.busy": "2024-01-24T00:56:28.547827Z",
     "iopub.status.idle": "2024-01-24T00:56:28.588580Z",
     "shell.execute_reply": "2024-01-24T00:56:28.587385Z"
    },
    "papermill": {
     "duration": 0.060866,
     "end_time": "2024-01-24T00:56:28.591261",
     "exception": false,
     "start_time": "2024-01-24T00:56:28.530395",
     "status": "completed"
    },
    "tags": []
   },
   "outputs": [
    {
     "data": {
      "text/html": [
       "<div>\n",
       "<style scoped>\n",
       "    .dataframe tbody tr th:only-of-type {\n",
       "        vertical-align: middle;\n",
       "    }\n",
       "\n",
       "    .dataframe tbody tr th {\n",
       "        vertical-align: top;\n",
       "    }\n",
       "\n",
       "    .dataframe thead th {\n",
       "        text-align: right;\n",
       "    }\n",
       "</style>\n",
       "<table border=\"1\" class=\"dataframe\">\n",
       "  <thead>\n",
       "    <tr style=\"text-align: right;\">\n",
       "      <th></th>\n",
       "      <th>Age</th>\n",
       "      <th>Gender</th>\n",
       "      <th>Item Purchased</th>\n",
       "      <th>Category</th>\n",
       "      <th>Purchase Amount (USD)</th>\n",
       "      <th>Location</th>\n",
       "      <th>Size</th>\n",
       "      <th>Color</th>\n",
       "      <th>Season</th>\n",
       "      <th>Review Rating</th>\n",
       "      <th>Subscription Status</th>\n",
       "      <th>Shipping Type</th>\n",
       "      <th>Discount Applied</th>\n",
       "      <th>Promo Code Used</th>\n",
       "      <th>Previous Purchases</th>\n",
       "      <th>Payment Method</th>\n",
       "      <th>Frequency of Purchases</th>\n",
       "    </tr>\n",
       "  </thead>\n",
       "  <tbody>\n",
       "    <tr>\n",
       "      <th>0</th>\n",
       "      <td>55</td>\n",
       "      <td>Male</td>\n",
       "      <td>Blouse</td>\n",
       "      <td>Clothing</td>\n",
       "      <td>53</td>\n",
       "      <td>Kentucky</td>\n",
       "      <td>L</td>\n",
       "      <td>Gray</td>\n",
       "      <td>Winter</td>\n",
       "      <td>3.1</td>\n",
       "      <td>Yes</td>\n",
       "      <td>Express</td>\n",
       "      <td>Yes</td>\n",
       "      <td>Yes</td>\n",
       "      <td>14</td>\n",
       "      <td>Venmo</td>\n",
       "      <td>Fortnightly</td>\n",
       "    </tr>\n",
       "    <tr>\n",
       "      <th>1</th>\n",
       "      <td>19</td>\n",
       "      <td>Male</td>\n",
       "      <td>Sweater</td>\n",
       "      <td>Clothing</td>\n",
       "      <td>64</td>\n",
       "      <td>Maine</td>\n",
       "      <td>L</td>\n",
       "      <td>Maroon</td>\n",
       "      <td>Winter</td>\n",
       "      <td>3.1</td>\n",
       "      <td>Yes</td>\n",
       "      <td>Express</td>\n",
       "      <td>Yes</td>\n",
       "      <td>Yes</td>\n",
       "      <td>2</td>\n",
       "      <td>Cash</td>\n",
       "      <td>Fortnightly</td>\n",
       "    </tr>\n",
       "    <tr>\n",
       "      <th>2</th>\n",
       "      <td>50</td>\n",
       "      <td>Male</td>\n",
       "      <td>Jeans</td>\n",
       "      <td>Clothing</td>\n",
       "      <td>73</td>\n",
       "      <td>Massachusetts</td>\n",
       "      <td>S</td>\n",
       "      <td>Maroon</td>\n",
       "      <td>Spring</td>\n",
       "      <td>3.1</td>\n",
       "      <td>Yes</td>\n",
       "      <td>Free Shipping</td>\n",
       "      <td>Yes</td>\n",
       "      <td>Yes</td>\n",
       "      <td>23</td>\n",
       "      <td>Credit Card</td>\n",
       "      <td>Weekly</td>\n",
       "    </tr>\n",
       "    <tr>\n",
       "      <th>3</th>\n",
       "      <td>21</td>\n",
       "      <td>Male</td>\n",
       "      <td>Sandals</td>\n",
       "      <td>Footwear</td>\n",
       "      <td>90</td>\n",
       "      <td>Rhode Island</td>\n",
       "      <td>M</td>\n",
       "      <td>Maroon</td>\n",
       "      <td>Spring</td>\n",
       "      <td>3.5</td>\n",
       "      <td>Yes</td>\n",
       "      <td>Next Day Air</td>\n",
       "      <td>Yes</td>\n",
       "      <td>Yes</td>\n",
       "      <td>49</td>\n",
       "      <td>PayPal</td>\n",
       "      <td>Weekly</td>\n",
       "    </tr>\n",
       "    <tr>\n",
       "      <th>4</th>\n",
       "      <td>45</td>\n",
       "      <td>Male</td>\n",
       "      <td>Blouse</td>\n",
       "      <td>Clothing</td>\n",
       "      <td>49</td>\n",
       "      <td>Oregon</td>\n",
       "      <td>M</td>\n",
       "      <td>Turquoise</td>\n",
       "      <td>Spring</td>\n",
       "      <td>2.7</td>\n",
       "      <td>Yes</td>\n",
       "      <td>Free Shipping</td>\n",
       "      <td>Yes</td>\n",
       "      <td>Yes</td>\n",
       "      <td>31</td>\n",
       "      <td>PayPal</td>\n",
       "      <td>Annually</td>\n",
       "    </tr>\n",
       "    <tr>\n",
       "      <th>...</th>\n",
       "      <td>...</td>\n",
       "      <td>...</td>\n",
       "      <td>...</td>\n",
       "      <td>...</td>\n",
       "      <td>...</td>\n",
       "      <td>...</td>\n",
       "      <td>...</td>\n",
       "      <td>...</td>\n",
       "      <td>...</td>\n",
       "      <td>...</td>\n",
       "      <td>...</td>\n",
       "      <td>...</td>\n",
       "      <td>...</td>\n",
       "      <td>...</td>\n",
       "      <td>...</td>\n",
       "      <td>...</td>\n",
       "      <td>...</td>\n",
       "    </tr>\n",
       "    <tr>\n",
       "      <th>3895</th>\n",
       "      <td>40</td>\n",
       "      <td>Female</td>\n",
       "      <td>Hoodie</td>\n",
       "      <td>Clothing</td>\n",
       "      <td>28</td>\n",
       "      <td>Virginia</td>\n",
       "      <td>L</td>\n",
       "      <td>Turquoise</td>\n",
       "      <td>Summer</td>\n",
       "      <td>4.2</td>\n",
       "      <td>No</td>\n",
       "      <td>2-Day Shipping</td>\n",
       "      <td>No</td>\n",
       "      <td>No</td>\n",
       "      <td>32</td>\n",
       "      <td>Venmo</td>\n",
       "      <td>Weekly</td>\n",
       "    </tr>\n",
       "    <tr>\n",
       "      <th>3896</th>\n",
       "      <td>52</td>\n",
       "      <td>Female</td>\n",
       "      <td>Backpack</td>\n",
       "      <td>Accessories</td>\n",
       "      <td>49</td>\n",
       "      <td>Iowa</td>\n",
       "      <td>L</td>\n",
       "      <td>White</td>\n",
       "      <td>Spring</td>\n",
       "      <td>4.5</td>\n",
       "      <td>No</td>\n",
       "      <td>Store Pickup</td>\n",
       "      <td>No</td>\n",
       "      <td>No</td>\n",
       "      <td>41</td>\n",
       "      <td>Bank Transfer</td>\n",
       "      <td>Bi-Weekly</td>\n",
       "    </tr>\n",
       "    <tr>\n",
       "      <th>3897</th>\n",
       "      <td>46</td>\n",
       "      <td>Female</td>\n",
       "      <td>Belt</td>\n",
       "      <td>Accessories</td>\n",
       "      <td>33</td>\n",
       "      <td>New Jersey</td>\n",
       "      <td>L</td>\n",
       "      <td>Green</td>\n",
       "      <td>Spring</td>\n",
       "      <td>2.9</td>\n",
       "      <td>No</td>\n",
       "      <td>Standard</td>\n",
       "      <td>No</td>\n",
       "      <td>No</td>\n",
       "      <td>24</td>\n",
       "      <td>Venmo</td>\n",
       "      <td>Quarterly</td>\n",
       "    </tr>\n",
       "    <tr>\n",
       "      <th>3898</th>\n",
       "      <td>44</td>\n",
       "      <td>Female</td>\n",
       "      <td>Shoes</td>\n",
       "      <td>Footwear</td>\n",
       "      <td>77</td>\n",
       "      <td>Minnesota</td>\n",
       "      <td>S</td>\n",
       "      <td>Brown</td>\n",
       "      <td>Summer</td>\n",
       "      <td>3.8</td>\n",
       "      <td>No</td>\n",
       "      <td>Express</td>\n",
       "      <td>No</td>\n",
       "      <td>No</td>\n",
       "      <td>24</td>\n",
       "      <td>Venmo</td>\n",
       "      <td>Weekly</td>\n",
       "    </tr>\n",
       "    <tr>\n",
       "      <th>3899</th>\n",
       "      <td>52</td>\n",
       "      <td>Female</td>\n",
       "      <td>Handbag</td>\n",
       "      <td>Accessories</td>\n",
       "      <td>81</td>\n",
       "      <td>California</td>\n",
       "      <td>M</td>\n",
       "      <td>Beige</td>\n",
       "      <td>Spring</td>\n",
       "      <td>3.1</td>\n",
       "      <td>No</td>\n",
       "      <td>Store Pickup</td>\n",
       "      <td>No</td>\n",
       "      <td>No</td>\n",
       "      <td>33</td>\n",
       "      <td>Venmo</td>\n",
       "      <td>Quarterly</td>\n",
       "    </tr>\n",
       "  </tbody>\n",
       "</table>\n",
       "<p>3900 rows × 17 columns</p>\n",
       "</div>"
      ],
      "text/plain": [
       "      Age  Gender Item Purchased     Category  Purchase Amount (USD)  \\\n",
       "0      55    Male         Blouse     Clothing                     53   \n",
       "1      19    Male        Sweater     Clothing                     64   \n",
       "2      50    Male          Jeans     Clothing                     73   \n",
       "3      21    Male        Sandals     Footwear                     90   \n",
       "4      45    Male         Blouse     Clothing                     49   \n",
       "...   ...     ...            ...          ...                    ...   \n",
       "3895   40  Female         Hoodie     Clothing                     28   \n",
       "3896   52  Female       Backpack  Accessories                     49   \n",
       "3897   46  Female           Belt  Accessories                     33   \n",
       "3898   44  Female          Shoes     Footwear                     77   \n",
       "3899   52  Female        Handbag  Accessories                     81   \n",
       "\n",
       "           Location Size      Color  Season  Review Rating  \\\n",
       "0          Kentucky    L       Gray  Winter            3.1   \n",
       "1             Maine    L     Maroon  Winter            3.1   \n",
       "2     Massachusetts    S     Maroon  Spring            3.1   \n",
       "3      Rhode Island    M     Maroon  Spring            3.5   \n",
       "4            Oregon    M  Turquoise  Spring            2.7   \n",
       "...             ...  ...        ...     ...            ...   \n",
       "3895       Virginia    L  Turquoise  Summer            4.2   \n",
       "3896           Iowa    L      White  Spring            4.5   \n",
       "3897     New Jersey    L      Green  Spring            2.9   \n",
       "3898      Minnesota    S      Brown  Summer            3.8   \n",
       "3899     California    M      Beige  Spring            3.1   \n",
       "\n",
       "     Subscription Status   Shipping Type Discount Applied Promo Code Used  \\\n",
       "0                    Yes         Express              Yes             Yes   \n",
       "1                    Yes         Express              Yes             Yes   \n",
       "2                    Yes   Free Shipping              Yes             Yes   \n",
       "3                    Yes    Next Day Air              Yes             Yes   \n",
       "4                    Yes   Free Shipping              Yes             Yes   \n",
       "...                  ...             ...              ...             ...   \n",
       "3895                  No  2-Day Shipping               No              No   \n",
       "3896                  No    Store Pickup               No              No   \n",
       "3897                  No        Standard               No              No   \n",
       "3898                  No         Express               No              No   \n",
       "3899                  No    Store Pickup               No              No   \n",
       "\n",
       "      Previous Purchases Payment Method Frequency of Purchases  \n",
       "0                     14          Venmo            Fortnightly  \n",
       "1                      2           Cash            Fortnightly  \n",
       "2                     23    Credit Card                 Weekly  \n",
       "3                     49         PayPal                 Weekly  \n",
       "4                     31         PayPal               Annually  \n",
       "...                  ...            ...                    ...  \n",
       "3895                  32          Venmo                 Weekly  \n",
       "3896                  41  Bank Transfer              Bi-Weekly  \n",
       "3897                  24          Venmo              Quarterly  \n",
       "3898                  24          Venmo                 Weekly  \n",
       "3899                  33          Venmo              Quarterly  \n",
       "\n",
       "[3900 rows x 17 columns]"
      ]
     },
     "execution_count": 12,
     "metadata": {},
     "output_type": "execute_result"
    }
   ],
   "source": [
    "# Check for duplicate values \n",
    "\n",
    "data.drop_duplicates()"
   ]
  },
  {
   "cell_type": "markdown",
   "id": "afe16ca2",
   "metadata": {
    "papermill": {
     "duration": 0.016059,
     "end_time": "2024-01-24T00:56:28.623860",
     "exception": false,
     "start_time": "2024-01-24T00:56:28.607801",
     "status": "completed"
    },
    "tags": []
   },
   "source": [
    "After using drop_duplictes method, no change was made to the dataset, confirming that there were no duplicates to drop "
   ]
  },
  {
   "cell_type": "code",
   "execution_count": 13,
   "id": "4af45e77",
   "metadata": {
    "execution": {
     "iopub.execute_input": "2024-01-24T00:56:28.658971Z",
     "iopub.status.busy": "2024-01-24T00:56:28.658327Z",
     "iopub.status.idle": "2024-01-24T00:56:28.674287Z",
     "shell.execute_reply": "2024-01-24T00:56:28.672776Z"
    },
    "papermill": {
     "duration": 0.036917,
     "end_time": "2024-01-24T00:56:28.677173",
     "exception": false,
     "start_time": "2024-01-24T00:56:28.640256",
     "status": "completed"
    },
    "tags": []
   },
   "outputs": [
    {
     "data": {
      "text/plain": [
       "Age                       53\n",
       "Gender                     2\n",
       "Item Purchased            25\n",
       "Category                   4\n",
       "Purchase Amount (USD)     81\n",
       "Location                  50\n",
       "Size                       4\n",
       "Color                     25\n",
       "Season                     4\n",
       "Review Rating             26\n",
       "Subscription Status        2\n",
       "Shipping Type              6\n",
       "Discount Applied           2\n",
       "Promo Code Used            2\n",
       "Previous Purchases        50\n",
       "Payment Method             6\n",
       "Frequency of Purchases     7\n",
       "dtype: int64"
      ]
     },
     "execution_count": 13,
     "metadata": {},
     "output_type": "execute_result"
    }
   ],
   "source": [
    "data.nunique()"
   ]
  },
  {
   "cell_type": "code",
   "execution_count": 14,
   "id": "bd4427a1",
   "metadata": {
    "execution": {
     "iopub.execute_input": "2024-01-24T00:56:28.712216Z",
     "iopub.status.busy": "2024-01-24T00:56:28.711813Z",
     "iopub.status.idle": "2024-01-24T00:56:28.734866Z",
     "shell.execute_reply": "2024-01-24T00:56:28.733290Z"
    },
    "papermill": {
     "duration": 0.044445,
     "end_time": "2024-01-24T00:56:28.737943",
     "exception": false,
     "start_time": "2024-01-24T00:56:28.693498",
     "status": "completed"
    },
    "tags": []
   },
   "outputs": [
    {
     "data": {
      "text/html": [
       "<div>\n",
       "<style scoped>\n",
       "    .dataframe tbody tr th:only-of-type {\n",
       "        vertical-align: middle;\n",
       "    }\n",
       "\n",
       "    .dataframe tbody tr th {\n",
       "        vertical-align: top;\n",
       "    }\n",
       "\n",
       "    .dataframe thead th {\n",
       "        text-align: right;\n",
       "    }\n",
       "</style>\n",
       "<table border=\"1\" class=\"dataframe\">\n",
       "  <thead>\n",
       "    <tr style=\"text-align: right;\">\n",
       "      <th></th>\n",
       "      <th>mean</th>\n",
       "      <th>median</th>\n",
       "      <th>sum</th>\n",
       "    </tr>\n",
       "    <tr>\n",
       "      <th>Location</th>\n",
       "      <th></th>\n",
       "      <th></th>\n",
       "      <th></th>\n",
       "    </tr>\n",
       "  </thead>\n",
       "  <tbody>\n",
       "    <tr>\n",
       "      <th>Alabama</th>\n",
       "      <td>59.112360</td>\n",
       "      <td>56.0</td>\n",
       "      <td>5261</td>\n",
       "    </tr>\n",
       "    <tr>\n",
       "      <th>Alaska</th>\n",
       "      <td>67.597222</td>\n",
       "      <td>68.5</td>\n",
       "      <td>4867</td>\n",
       "    </tr>\n",
       "    <tr>\n",
       "      <th>Arizona</th>\n",
       "      <td>66.553846</td>\n",
       "      <td>68.0</td>\n",
       "      <td>4326</td>\n",
       "    </tr>\n",
       "    <tr>\n",
       "      <th>Arkansas</th>\n",
       "      <td>61.113924</td>\n",
       "      <td>58.0</td>\n",
       "      <td>4828</td>\n",
       "    </tr>\n",
       "    <tr>\n",
       "      <th>California</th>\n",
       "      <td>59.000000</td>\n",
       "      <td>57.0</td>\n",
       "      <td>5605</td>\n",
       "    </tr>\n",
       "    <tr>\n",
       "      <th>Colorado</th>\n",
       "      <td>56.293333</td>\n",
       "      <td>51.0</td>\n",
       "      <td>4222</td>\n",
       "    </tr>\n",
       "    <tr>\n",
       "      <th>Connecticut</th>\n",
       "      <td>54.179487</td>\n",
       "      <td>48.5</td>\n",
       "      <td>4226</td>\n",
       "    </tr>\n",
       "    <tr>\n",
       "      <th>Delaware</th>\n",
       "      <td>55.325581</td>\n",
       "      <td>52.5</td>\n",
       "      <td>4758</td>\n",
       "    </tr>\n",
       "    <tr>\n",
       "      <th>Florida</th>\n",
       "      <td>55.852941</td>\n",
       "      <td>56.0</td>\n",
       "      <td>3798</td>\n",
       "    </tr>\n",
       "    <tr>\n",
       "      <th>Georgia</th>\n",
       "      <td>58.797468</td>\n",
       "      <td>62.0</td>\n",
       "      <td>4645</td>\n",
       "    </tr>\n",
       "  </tbody>\n",
       "</table>\n",
       "</div>"
      ],
      "text/plain": [
       "                  mean  median   sum\n",
       "Location                            \n",
       "Alabama      59.112360    56.0  5261\n",
       "Alaska       67.597222    68.5  4867\n",
       "Arizona      66.553846    68.0  4326\n",
       "Arkansas     61.113924    58.0  4828\n",
       "California   59.000000    57.0  5605\n",
       "Colorado     56.293333    51.0  4222\n",
       "Connecticut  54.179487    48.5  4226\n",
       "Delaware     55.325581    52.5  4758\n",
       "Florida      55.852941    56.0  3798\n",
       "Georgia      58.797468    62.0  4645"
      ]
     },
     "execution_count": 14,
     "metadata": {},
     "output_type": "execute_result"
    }
   ],
   "source": [
    "# Location purchase statistics \n",
    "\n",
    "location_purchase_info = data.groupby(\"Location\")[\"Purchase Amount (USD)\"].agg([\"mean\", \"median\", \"sum\"])\n",
    "location_purchase_info.head(10)"
   ]
  },
  {
   "cell_type": "code",
   "execution_count": 15,
   "id": "e8fa34c2",
   "metadata": {
    "execution": {
     "iopub.execute_input": "2024-01-24T00:56:28.778517Z",
     "iopub.status.busy": "2024-01-24T00:56:28.776851Z",
     "iopub.status.idle": "2024-01-24T00:56:28.798407Z",
     "shell.execute_reply": "2024-01-24T00:56:28.796855Z"
    },
    "papermill": {
     "duration": 0.044642,
     "end_time": "2024-01-24T00:56:28.801680",
     "exception": false,
     "start_time": "2024-01-24T00:56:28.757038",
     "status": "completed"
    },
    "tags": []
   },
   "outputs": [
    {
     "data": {
      "text/plain": [
       "Location  Shipping Type \n",
       "Alabama   Express           20\n",
       "          Store Pickup      19\n",
       "          Next Day Air      17\n",
       "          2-Day Shipping    16\n",
       "          Free Shipping      9\n",
       "                            ..\n",
       "Wyoming   Express           13\n",
       "          Next Day Air      12\n",
       "          Standard          11\n",
       "          Free Shipping     10\n",
       "          2-Day Shipping     8\n",
       "Name: count, Length: 300, dtype: int64"
      ]
     },
     "execution_count": 15,
     "metadata": {},
     "output_type": "execute_result"
    }
   ],
   "source": [
    "# Shipping type \n",
    "\n",
    "shipping_type = data.groupby(\"Location\")[\"Shipping Type\"].value_counts()\n",
    "shipping_type"
   ]
  },
  {
   "cell_type": "markdown",
   "id": "446b69e3",
   "metadata": {
    "papermill": {
     "duration": 0.018084,
     "end_time": "2024-01-24T00:56:28.838614",
     "exception": false,
     "start_time": "2024-01-24T00:56:28.820530",
     "status": "completed"
    },
    "tags": []
   },
   "source": [
    "# Analysis"
   ]
  },
  {
   "cell_type": "code",
   "execution_count": 16,
   "id": "9c355321",
   "metadata": {
    "execution": {
     "iopub.execute_input": "2024-01-24T00:56:28.877940Z",
     "iopub.status.busy": "2024-01-24T00:56:28.877436Z",
     "iopub.status.idle": "2024-01-24T00:56:28.910375Z",
     "shell.execute_reply": "2024-01-24T00:56:28.908833Z"
    },
    "papermill": {
     "duration": 0.057006,
     "end_time": "2024-01-24T00:56:28.913439",
     "exception": false,
     "start_time": "2024-01-24T00:56:28.856433",
     "status": "completed"
    },
    "tags": []
   },
   "outputs": [
    {
     "data": {
      "text/html": [
       "<div>\n",
       "<style scoped>\n",
       "    .dataframe tbody tr th:only-of-type {\n",
       "        vertical-align: middle;\n",
       "    }\n",
       "\n",
       "    .dataframe tbody tr th {\n",
       "        vertical-align: top;\n",
       "    }\n",
       "\n",
       "    .dataframe thead th {\n",
       "        text-align: right;\n",
       "    }\n",
       "</style>\n",
       "<table border=\"1\" class=\"dataframe\">\n",
       "  <thead>\n",
       "    <tr style=\"text-align: right;\">\n",
       "      <th></th>\n",
       "      <th>Age</th>\n",
       "      <th>Gender</th>\n",
       "      <th>Item Purchased</th>\n",
       "      <th>Category</th>\n",
       "      <th>Purchase Amount (USD)</th>\n",
       "      <th>Location</th>\n",
       "      <th>Size</th>\n",
       "      <th>Color</th>\n",
       "      <th>Season</th>\n",
       "      <th>Review Rating</th>\n",
       "      <th>Subscription Status</th>\n",
       "      <th>Shipping Type</th>\n",
       "      <th>Discount Applied</th>\n",
       "      <th>Promo Code Used</th>\n",
       "      <th>Previous Purchases</th>\n",
       "      <th>Payment Method</th>\n",
       "      <th>Frequency of Purchases</th>\n",
       "    </tr>\n",
       "  </thead>\n",
       "  <tbody>\n",
       "    <tr>\n",
       "      <th>0</th>\n",
       "      <td>55</td>\n",
       "      <td>Male</td>\n",
       "      <td>Blouse</td>\n",
       "      <td>Clothing</td>\n",
       "      <td>53</td>\n",
       "      <td>Kentucky</td>\n",
       "      <td>L</td>\n",
       "      <td>Gray</td>\n",
       "      <td>Winter</td>\n",
       "      <td>3.1</td>\n",
       "      <td>Yes</td>\n",
       "      <td>Express</td>\n",
       "      <td>Yes</td>\n",
       "      <td>Yes</td>\n",
       "      <td>14</td>\n",
       "      <td>Venmo</td>\n",
       "      <td>Fortnightly</td>\n",
       "    </tr>\n",
       "    <tr>\n",
       "      <th>1</th>\n",
       "      <td>19</td>\n",
       "      <td>Male</td>\n",
       "      <td>Sweater</td>\n",
       "      <td>Clothing</td>\n",
       "      <td>64</td>\n",
       "      <td>Maine</td>\n",
       "      <td>L</td>\n",
       "      <td>Maroon</td>\n",
       "      <td>Winter</td>\n",
       "      <td>3.1</td>\n",
       "      <td>Yes</td>\n",
       "      <td>Express</td>\n",
       "      <td>Yes</td>\n",
       "      <td>Yes</td>\n",
       "      <td>2</td>\n",
       "      <td>Cash</td>\n",
       "      <td>Fortnightly</td>\n",
       "    </tr>\n",
       "    <tr>\n",
       "      <th>2</th>\n",
       "      <td>50</td>\n",
       "      <td>Male</td>\n",
       "      <td>Jeans</td>\n",
       "      <td>Clothing</td>\n",
       "      <td>73</td>\n",
       "      <td>Massachusetts</td>\n",
       "      <td>S</td>\n",
       "      <td>Maroon</td>\n",
       "      <td>Spring</td>\n",
       "      <td>3.1</td>\n",
       "      <td>Yes</td>\n",
       "      <td>Free Shipping</td>\n",
       "      <td>Yes</td>\n",
       "      <td>Yes</td>\n",
       "      <td>23</td>\n",
       "      <td>Credit Card</td>\n",
       "      <td>Weekly</td>\n",
       "    </tr>\n",
       "    <tr>\n",
       "      <th>3</th>\n",
       "      <td>21</td>\n",
       "      <td>Male</td>\n",
       "      <td>Sandals</td>\n",
       "      <td>Footwear</td>\n",
       "      <td>90</td>\n",
       "      <td>Rhode Island</td>\n",
       "      <td>M</td>\n",
       "      <td>Maroon</td>\n",
       "      <td>Spring</td>\n",
       "      <td>3.5</td>\n",
       "      <td>Yes</td>\n",
       "      <td>Next Day Air</td>\n",
       "      <td>Yes</td>\n",
       "      <td>Yes</td>\n",
       "      <td>49</td>\n",
       "      <td>PayPal</td>\n",
       "      <td>Weekly</td>\n",
       "    </tr>\n",
       "    <tr>\n",
       "      <th>4</th>\n",
       "      <td>45</td>\n",
       "      <td>Male</td>\n",
       "      <td>Blouse</td>\n",
       "      <td>Clothing</td>\n",
       "      <td>49</td>\n",
       "      <td>Oregon</td>\n",
       "      <td>M</td>\n",
       "      <td>Turquoise</td>\n",
       "      <td>Spring</td>\n",
       "      <td>2.7</td>\n",
       "      <td>Yes</td>\n",
       "      <td>Free Shipping</td>\n",
       "      <td>Yes</td>\n",
       "      <td>Yes</td>\n",
       "      <td>31</td>\n",
       "      <td>PayPal</td>\n",
       "      <td>Annually</td>\n",
       "    </tr>\n",
       "    <tr>\n",
       "      <th>...</th>\n",
       "      <td>...</td>\n",
       "      <td>...</td>\n",
       "      <td>...</td>\n",
       "      <td>...</td>\n",
       "      <td>...</td>\n",
       "      <td>...</td>\n",
       "      <td>...</td>\n",
       "      <td>...</td>\n",
       "      <td>...</td>\n",
       "      <td>...</td>\n",
       "      <td>...</td>\n",
       "      <td>...</td>\n",
       "      <td>...</td>\n",
       "      <td>...</td>\n",
       "      <td>...</td>\n",
       "      <td>...</td>\n",
       "      <td>...</td>\n",
       "    </tr>\n",
       "    <tr>\n",
       "      <th>447</th>\n",
       "      <td>60</td>\n",
       "      <td>Male</td>\n",
       "      <td>Shorts</td>\n",
       "      <td>Clothing</td>\n",
       "      <td>82</td>\n",
       "      <td>Washington</td>\n",
       "      <td>S</td>\n",
       "      <td>Turquoise</td>\n",
       "      <td>Spring</td>\n",
       "      <td>3.6</td>\n",
       "      <td>Yes</td>\n",
       "      <td>Standard</td>\n",
       "      <td>Yes</td>\n",
       "      <td>Yes</td>\n",
       "      <td>7</td>\n",
       "      <td>Bank Transfer</td>\n",
       "      <td>Every 3 Months</td>\n",
       "    </tr>\n",
       "    <tr>\n",
       "      <th>450</th>\n",
       "      <td>25</td>\n",
       "      <td>Male</td>\n",
       "      <td>Boots</td>\n",
       "      <td>Footwear</td>\n",
       "      <td>21</td>\n",
       "      <td>Connecticut</td>\n",
       "      <td>L</td>\n",
       "      <td>Beige</td>\n",
       "      <td>Summer</td>\n",
       "      <td>2.7</td>\n",
       "      <td>Yes</td>\n",
       "      <td>Store Pickup</td>\n",
       "      <td>Yes</td>\n",
       "      <td>Yes</td>\n",
       "      <td>19</td>\n",
       "      <td>Credit Card</td>\n",
       "      <td>Monthly</td>\n",
       "    </tr>\n",
       "    <tr>\n",
       "      <th>492</th>\n",
       "      <td>50</td>\n",
       "      <td>Male</td>\n",
       "      <td>Shirt</td>\n",
       "      <td>Clothing</td>\n",
       "      <td>62</td>\n",
       "      <td>Michigan</td>\n",
       "      <td>M</td>\n",
       "      <td>Black</td>\n",
       "      <td>Fall</td>\n",
       "      <td>3.9</td>\n",
       "      <td>Yes</td>\n",
       "      <td>Standard</td>\n",
       "      <td>Yes</td>\n",
       "      <td>Yes</td>\n",
       "      <td>11</td>\n",
       "      <td>Debit Card</td>\n",
       "      <td>Weekly</td>\n",
       "    </tr>\n",
       "    <tr>\n",
       "      <th>495</th>\n",
       "      <td>33</td>\n",
       "      <td>Male</td>\n",
       "      <td>Handbag</td>\n",
       "      <td>Accessories</td>\n",
       "      <td>36</td>\n",
       "      <td>Michigan</td>\n",
       "      <td>XL</td>\n",
       "      <td>Cyan</td>\n",
       "      <td>Fall</td>\n",
       "      <td>3.3</td>\n",
       "      <td>Yes</td>\n",
       "      <td>Free Shipping</td>\n",
       "      <td>Yes</td>\n",
       "      <td>Yes</td>\n",
       "      <td>6</td>\n",
       "      <td>Debit Card</td>\n",
       "      <td>Fortnightly</td>\n",
       "    </tr>\n",
       "    <tr>\n",
       "      <th>557</th>\n",
       "      <td>18</td>\n",
       "      <td>Male</td>\n",
       "      <td>Shirt</td>\n",
       "      <td>Clothing</td>\n",
       "      <td>60</td>\n",
       "      <td>Alaska</td>\n",
       "      <td>M</td>\n",
       "      <td>White</td>\n",
       "      <td>Spring</td>\n",
       "      <td>2.9</td>\n",
       "      <td>Yes</td>\n",
       "      <td>Free Shipping</td>\n",
       "      <td>Yes</td>\n",
       "      <td>Yes</td>\n",
       "      <td>31</td>\n",
       "      <td>Debit Card</td>\n",
       "      <td>Weekly</td>\n",
       "    </tr>\n",
       "  </tbody>\n",
       "</table>\n",
       "<p>250 rows × 17 columns</p>\n",
       "</div>"
      ],
      "text/plain": [
       "     Age Gender Item Purchased     Category  Purchase Amount (USD)  \\\n",
       "0     55   Male         Blouse     Clothing                     53   \n",
       "1     19   Male        Sweater     Clothing                     64   \n",
       "2     50   Male          Jeans     Clothing                     73   \n",
       "3     21   Male        Sandals     Footwear                     90   \n",
       "4     45   Male         Blouse     Clothing                     49   \n",
       "..   ...    ...            ...          ...                    ...   \n",
       "447   60   Male         Shorts     Clothing                     82   \n",
       "450   25   Male          Boots     Footwear                     21   \n",
       "492   50   Male          Shirt     Clothing                     62   \n",
       "495   33   Male        Handbag  Accessories                     36   \n",
       "557   18   Male          Shirt     Clothing                     60   \n",
       "\n",
       "          Location Size      Color  Season  Review Rating Subscription Status  \\\n",
       "0         Kentucky    L       Gray  Winter            3.1                 Yes   \n",
       "1            Maine    L     Maroon  Winter            3.1                 Yes   \n",
       "2    Massachusetts    S     Maroon  Spring            3.1                 Yes   \n",
       "3     Rhode Island    M     Maroon  Spring            3.5                 Yes   \n",
       "4           Oregon    M  Turquoise  Spring            2.7                 Yes   \n",
       "..             ...  ...        ...     ...            ...                 ...   \n",
       "447     Washington    S  Turquoise  Spring            3.6                 Yes   \n",
       "450    Connecticut    L      Beige  Summer            2.7                 Yes   \n",
       "492       Michigan    M      Black    Fall            3.9                 Yes   \n",
       "495       Michigan   XL       Cyan    Fall            3.3                 Yes   \n",
       "557         Alaska    M      White  Spring            2.9                 Yes   \n",
       "\n",
       "     Shipping Type Discount Applied Promo Code Used  Previous Purchases  \\\n",
       "0          Express              Yes             Yes                  14   \n",
       "1          Express              Yes             Yes                   2   \n",
       "2    Free Shipping              Yes             Yes                  23   \n",
       "3     Next Day Air              Yes             Yes                  49   \n",
       "4    Free Shipping              Yes             Yes                  31   \n",
       "..             ...              ...             ...                 ...   \n",
       "447       Standard              Yes             Yes                   7   \n",
       "450   Store Pickup              Yes             Yes                  19   \n",
       "492       Standard              Yes             Yes                  11   \n",
       "495  Free Shipping              Yes             Yes                   6   \n",
       "557  Free Shipping              Yes             Yes                  31   \n",
       "\n",
       "    Payment Method Frequency of Purchases  \n",
       "0            Venmo            Fortnightly  \n",
       "1             Cash            Fortnightly  \n",
       "2      Credit Card                 Weekly  \n",
       "3           PayPal                 Weekly  \n",
       "4           PayPal               Annually  \n",
       "..             ...                    ...  \n",
       "447  Bank Transfer         Every 3 Months  \n",
       "450    Credit Card                Monthly  \n",
       "492     Debit Card                 Weekly  \n",
       "495     Debit Card            Fortnightly  \n",
       "557     Debit Card                 Weekly  \n",
       "\n",
       "[250 rows x 17 columns]"
      ]
     },
     "execution_count": 16,
     "metadata": {},
     "output_type": "execute_result"
    }
   ],
   "source": [
    "# Analyze regional trends \n",
    "\n",
    "location_groups = data.groupby(\"Location\")\n",
    "location_groups.head()"
   ]
  },
  {
   "cell_type": "code",
   "execution_count": 17,
   "id": "8e5d96b5",
   "metadata": {
    "execution": {
     "iopub.execute_input": "2024-01-24T00:56:28.954703Z",
     "iopub.status.busy": "2024-01-24T00:56:28.954228Z",
     "iopub.status.idle": "2024-01-24T00:56:28.967050Z",
     "shell.execute_reply": "2024-01-24T00:56:28.965532Z"
    },
    "papermill": {
     "duration": 0.03692,
     "end_time": "2024-01-24T00:56:28.969736",
     "exception": false,
     "start_time": "2024-01-24T00:56:28.932816",
     "status": "completed"
    },
    "tags": []
   },
   "outputs": [
    {
     "data": {
      "text/plain": [
       "Location\n",
       "Alaska            67.597222\n",
       "Pennsylvania      66.567568\n",
       "Arizona           66.553846\n",
       "West Virginia     63.876543\n",
       "Nevada            63.379310\n",
       "Washington        63.328767\n",
       "North Dakota      62.891566\n",
       "Virginia          62.883117\n",
       "Utah              62.577465\n",
       "Michigan          62.095890\n",
       "Tennessee         61.974026\n",
       "New Mexico        61.901235\n",
       "Rhode Island      61.444444\n",
       "Texas             61.194805\n",
       "Arkansas          61.113924\n",
       "Illinois          61.054348\n",
       "Mississippi       61.037500\n",
       "Massachusetts     60.888889\n",
       "Iowa              60.884058\n",
       "North Carolina    60.794872\n",
       "Wyoming           60.690141\n",
       "South Dakota      60.514286\n",
       "New York          60.425287\n",
       "Ohio              60.376623\n",
       "Montana           60.250000\n",
       "Idaho             60.075269\n",
       "Nebraska          59.448276\n",
       "New Hampshire     59.422535\n",
       "Alabama           59.112360\n",
       "California        59.000000\n",
       "Indiana           58.924051\n",
       "Georgia           58.797468\n",
       "South Carolina    58.407895\n",
       "Oklahoma          58.346667\n",
       "Missouri          57.913580\n",
       "Hawaii            57.723077\n",
       "Louisiana         57.714286\n",
       "Oregon            57.337838\n",
       "Vermont           57.176471\n",
       "Maine             56.987013\n",
       "New Jersey        56.746269\n",
       "Minnesota         56.556818\n",
       "Colorado          56.293333\n",
       "Wisconsin         55.946667\n",
       "Florida           55.852941\n",
       "Maryland          55.755814\n",
       "Kentucky          55.721519\n",
       "Delaware          55.325581\n",
       "Kansas            54.555556\n",
       "Connecticut       54.179487\n",
       "Name: Purchase Amount (USD), dtype: float64"
      ]
     },
     "execution_count": 17,
     "metadata": {},
     "output_type": "execute_result"
    }
   ],
   "source": [
    "# Analyze average price by region \n",
    "\n",
    "avg_price = location_groups[\"Purchase Amount (USD)\"].mean()\n",
    "avg_price.sort_values(ascending = False)"
   ]
  },
  {
   "cell_type": "markdown",
   "id": "e9c20c04",
   "metadata": {
    "papermill": {
     "duration": 0.01995,
     "end_time": "2024-01-24T00:56:29.008155",
     "exception": false,
     "start_time": "2024-01-24T00:56:28.988205",
     "status": "completed"
    },
    "tags": []
   },
   "source": [
    "In Alaska, the average spending is the highest out of all locations at $67.60 with a strong interest in the clothing category. "
   ]
  },
  {
   "cell_type": "code",
   "execution_count": 18,
   "id": "f081e7c1",
   "metadata": {
    "execution": {
     "iopub.execute_input": "2024-01-24T00:56:29.051069Z",
     "iopub.status.busy": "2024-01-24T00:56:29.050009Z",
     "iopub.status.idle": "2024-01-24T00:56:29.063755Z",
     "shell.execute_reply": "2024-01-24T00:56:29.062507Z"
    },
    "papermill": {
     "duration": 0.039514,
     "end_time": "2024-01-24T00:56:29.067139",
     "exception": false,
     "start_time": "2024-01-24T00:56:29.027625",
     "status": "completed"
    },
    "tags": []
   },
   "outputs": [
    {
     "data": {
      "text/plain": [
       "Location\n",
       "Alabama           41\n",
       "Alaska            33\n",
       "Arizona           32\n",
       "Arkansas          37\n",
       "California        47\n",
       "Colorado          32\n",
       "Connecticut       32\n",
       "Delaware          41\n",
       "Florida           30\n",
       "Georgia           41\n",
       "Hawaii            29\n",
       "Idaho             42\n",
       "Illinois          46\n",
       "Indiana           37\n",
       "Iowa              23\n",
       "Kansas            26\n",
       "Kentucky          34\n",
       "Louisiana         44\n",
       "Maine             34\n",
       "Maryland          34\n",
       "Massachusetts     34\n",
       "Michigan          31\n",
       "Minnesota         42\n",
       "Mississippi       33\n",
       "Missouri          37\n",
       "Montana           45\n",
       "Nebraska          37\n",
       "Nevada            38\n",
       "New Hampshire     29\n",
       "New Jersey        26\n",
       "New Mexico        29\n",
       "New York          36\n",
       "North Carolina    35\n",
       "North Dakota      34\n",
       "Ohio              34\n",
       "Oklahoma          38\n",
       "Oregon            37\n",
       "Pennsylvania      35\n",
       "Rhode Island      35\n",
       "South Carolina    36\n",
       "South Dakota      28\n",
       "Tennessee         34\n",
       "Texas             29\n",
       "Utah              33\n",
       "Vermont           43\n",
       "Virginia          35\n",
       "Washington        35\n",
       "West Virginia     31\n",
       "Wisconsin         37\n",
       "Wyoming           31\n",
       "Name: count, dtype: int64"
      ]
     },
     "execution_count": 18,
     "metadata": {},
     "output_type": "execute_result"
    }
   ],
   "source": [
    "# Analyze most popular category by region \n",
    "\n",
    "category_counts = location_groups[\"Category\"].value_counts()\n",
    "category_counts.groupby(\"Location\").max()"
   ]
  },
  {
   "cell_type": "code",
   "execution_count": 19,
   "id": "0f801d9b",
   "metadata": {
    "execution": {
     "iopub.execute_input": "2024-01-24T00:56:29.107919Z",
     "iopub.status.busy": "2024-01-24T00:56:29.107491Z",
     "iopub.status.idle": "2024-01-24T00:56:29.122631Z",
     "shell.execute_reply": "2024-01-24T00:56:29.121511Z"
    },
    "papermill": {
     "duration": 0.038808,
     "end_time": "2024-01-24T00:56:29.125692",
     "exception": false,
     "start_time": "2024-01-24T00:56:29.086884",
     "status": "completed"
    },
    "tags": []
   },
   "outputs": [
    {
     "data": {
      "text/plain": [
       "Location  Shipping Type \n",
       "Alabama   Express           20\n",
       "          Store Pickup      19\n",
       "          Next Day Air      17\n",
       "          2-Day Shipping    16\n",
       "          Free Shipping      9\n",
       "                            ..\n",
       "Wyoming   Express           13\n",
       "          Next Day Air      12\n",
       "          Standard          11\n",
       "          Free Shipping     10\n",
       "          2-Day Shipping     8\n",
       "Name: count, Length: 300, dtype: int64"
      ]
     },
     "execution_count": 19,
     "metadata": {},
     "output_type": "execute_result"
    }
   ],
   "source": [
    "# Analyze shipping preference by region \n",
    "\n",
    "shipping_type = location_groups[\"Shipping Type\"].value_counts()\n",
    "shipping_type"
   ]
  },
  {
   "cell_type": "markdown",
   "id": "e22a0e89",
   "metadata": {
    "papermill": {
     "duration": 0.019327,
     "end_time": "2024-01-24T00:56:29.164930",
     "exception": false,
     "start_time": "2024-01-24T00:56:29.145603",
     "status": "completed"
    },
    "tags": []
   },
   "source": [
    "## Visualizations"
   ]
  },
  {
   "cell_type": "code",
   "execution_count": 20,
   "id": "76036b41",
   "metadata": {
    "execution": {
     "iopub.execute_input": "2024-01-24T00:56:29.206667Z",
     "iopub.status.busy": "2024-01-24T00:56:29.206214Z",
     "iopub.status.idle": "2024-01-24T00:56:29.588942Z",
     "shell.execute_reply": "2024-01-24T00:56:29.588028Z"
    },
    "papermill": {
     "duration": 0.407329,
     "end_time": "2024-01-24T00:56:29.591852",
     "exception": false,
     "start_time": "2024-01-24T00:56:29.184523",
     "status": "completed"
    },
    "tags": []
   },
   "outputs": [
    {
     "data": {
      "text/plain": [
       "<Axes: title={'center': 'Purchases by Category'}, xlabel='Category', ylabel='Items Purchased'>"
      ]
     },
     "execution_count": 20,
     "metadata": {},
     "output_type": "execute_result"
    },
    {
     "data": {
      "image/png": "[encoded data removed]",
      "text/plain": [
       "<Figure size 640x480 with 1 Axes>"
      ]
     },
     "metadata": {},
     "output_type": "display_data"
    }
   ],
   "source": [
    "# Bar graph of the \"Category\" column\n",
    "\n",
    "Category_count = data[\"Category\"].value_counts()\n",
    "Category_count.head()\n",
    "Category_count.plot(kind = \"bar\", color = ['blue','pink','purple','red'], title = \"Purchases by Category\", ylabel = \"Items Purchased\")"
   ]
  },
  {
   "cell_type": "markdown",
   "id": "49fcea9c",
   "metadata": {
    "papermill": {
     "duration": 0.022113,
     "end_time": "2024-01-24T00:56:29.635655",
     "exception": false,
     "start_time": "2024-01-24T00:56:29.613542",
     "status": "completed"
    },
    "tags": []
   },
   "source": [
    "Clothing has the best purchase history with outerwear having the lowest. "
   ]
  },
  {
   "cell_type": "code",
   "execution_count": 21,
   "id": "fbd6fc73",
   "metadata": {
    "execution": {
     "iopub.execute_input": "2024-01-24T00:56:29.680804Z",
     "iopub.status.busy": "2024-01-24T00:56:29.679884Z",
     "iopub.status.idle": "2024-01-24T00:56:29.866463Z",
     "shell.execute_reply": "2024-01-24T00:56:29.864788Z"
    },
    "papermill": {
     "duration": 0.214393,
     "end_time": "2024-01-24T00:56:29.872289",
     "exception": false,
     "start_time": "2024-01-24T00:56:29.657896",
     "status": "completed"
    },
    "tags": []
   },
   "outputs": [
    {
     "data": {
      "text/plain": [
       "<Axes: ylabel='count'>"
      ]
     },
     "execution_count": 21,
     "metadata": {},
     "output_type": "execute_result"
    },
    {
     "data": {
      "image/png": "[encoded data removed]",
      "text/plain": [
       "<Figure size 640x480 with 1 Axes>"
      ]
     },
     "metadata": {},
     "output_type": "display_data"
    }
   ],
   "source": [
    "# Percentage of each category through pie chart \n",
    "\n",
    "Category_count.plot(kind = \"pie\")"
   ]
  },
  {
   "cell_type": "code",
   "execution_count": 22,
   "id": "ef004862",
   "metadata": {
    "execution": {
     "iopub.execute_input": "2024-01-24T00:56:29.942711Z",
     "iopub.status.busy": "2024-01-24T00:56:29.942262Z",
     "iopub.status.idle": "2024-01-24T00:56:29.956374Z",
     "shell.execute_reply": "2024-01-24T00:56:29.955469Z"
    },
    "papermill": {
     "duration": 0.042676,
     "end_time": "2024-01-24T00:56:29.958974",
     "exception": false,
     "start_time": "2024-01-24T00:56:29.916298",
     "status": "completed"
    },
    "tags": []
   },
   "outputs": [
    {
     "data": {
      "text/plain": [
       "Location   Category   \n",
       "Alabama    Clothing       41\n",
       "           Accessories    25\n",
       "           Footwear       15\n",
       "           Outerwear       8\n",
       "Alaska     Clothing       33\n",
       "                          ..\n",
       "Wisconsin  Outerwear       3\n",
       "Wyoming    Clothing       31\n",
       "           Accessories    23\n",
       "           Footwear       11\n",
       "           Outerwear       6\n",
       "Name: count, Length: 200, dtype: int64"
      ]
     },
     "execution_count": 22,
     "metadata": {},
     "output_type": "execute_result"
    }
   ],
   "source": [
    "# Group by location and category \n",
    "\n",
    "data.groupby(\"Location\")[\"Category\"].value_counts()"
   ]
  },
  {
   "cell_type": "code",
   "execution_count": 23,
   "id": "55e32557",
   "metadata": {
    "execution": {
     "iopub.execute_input": "2024-01-24T00:56:30.005314Z",
     "iopub.status.busy": "2024-01-24T00:56:30.004578Z",
     "iopub.status.idle": "2024-01-24T00:56:30.880302Z",
     "shell.execute_reply": "2024-01-24T00:56:30.879304Z"
    },
    "papermill": {
     "duration": 0.902168,
     "end_time": "2024-01-24T00:56:30.883143",
     "exception": false,
     "start_time": "2024-01-24T00:56:29.980975",
     "status": "completed"
    },
    "tags": []
   },
   "outputs": [
    {
     "data": {
      "text/plain": [
       "<Axes: title={'center': 'Customer Distribution by Location'}, xlabel='Location', ylabel='Number of Customers'>"
      ]
     },
     "execution_count": 23,
     "metadata": {},
     "output_type": "execute_result"
    },
    {
     "data": {
      "image/png": "[encoded data removed]",
      "text/plain": [
       "<Figure size 1200x400 with 1 Axes>"
      ]
     },
     "metadata": {},
     "output_type": "display_data"
    }
   ],
   "source": [
    "# Visualization for \"Location\" column distribution \n",
    "\n",
    "Location_count = data[\"Location\"].value_counts()\n",
    "Location_count.plot(kind = \"bar\", rot = 90, figsize = (12,4),fontsize = \"small\", title = \"Customer Distribution by Location\", ylabel = \"Number of Customers\")"
   ]
  },
  {
   "cell_type": "markdown",
   "id": "e274cf04",
   "metadata": {
    "papermill": {
     "duration": 0.021247,
     "end_time": "2024-01-24T00:56:30.927144",
     "exception": false,
     "start_time": "2024-01-24T00:56:30.905897",
     "status": "completed"
    },
    "tags": []
   },
   "source": [
    "Montana has the most customers out of every other location. Marketing campaigns might be targeted towards the smaller numbers such as Rhode Island to attract a new demographic of buyers. "
   ]
  },
  {
   "cell_type": "code",
   "execution_count": 24,
   "id": "ec0ad614",
   "metadata": {
    "execution": {
     "iopub.execute_input": "2024-01-24T00:56:30.974314Z",
     "iopub.status.busy": "2024-01-24T00:56:30.973894Z",
     "iopub.status.idle": "2024-01-24T00:56:31.868889Z",
     "shell.execute_reply": "2024-01-24T00:56:31.867559Z"
    },
    "papermill": {
     "duration": 0.923575,
     "end_time": "2024-01-24T00:56:31.872815",
     "exception": false,
     "start_time": "2024-01-24T00:56:30.949240",
     "status": "completed"
    },
    "tags": []
   },
   "outputs": [
    {
     "data": {
      "text/plain": [
       "<Axes: title={'center': 'Distribution of Average Purchase by Location'}, xlabel='Location', ylabel='Average Purchase Price'>"
      ]
     },
     "execution_count": 24,
     "metadata": {},
     "output_type": "execute_result"
    },
    {
     "data": {
      "image/png": "[encoded data removed]",
      "text/plain": [
       "<Figure size 1200x400 with 1 Axes>"
      ]
     },
     "metadata": {},
     "output_type": "display_data"
    }
   ],
   "source": [
    "# Visualization for average purchase per region \n",
    "\n",
    "avg_price.plot(kind = \"bar\",figsize = (12,4), ylabel = \"Average Purchase Price\", title = \"Distribution of Average Purchase by Location\")"
   ]
  },
  {
   "cell_type": "code",
   "execution_count": 25,
   "id": "d55c60b2",
   "metadata": {
    "execution": {
     "iopub.execute_input": "2024-01-24T00:56:31.925346Z",
     "iopub.status.busy": "2024-01-24T00:56:31.924841Z",
     "iopub.status.idle": "2024-01-24T00:56:32.092379Z",
     "shell.execute_reply": "2024-01-24T00:56:32.090298Z"
    },
    "papermill": {
     "duration": 0.198342,
     "end_time": "2024-01-24T00:56:32.096045",
     "exception": false,
     "start_time": "2024-01-24T00:56:31.897703",
     "status": "completed"
    },
    "tags": []
   },
   "outputs": [
    {
     "data": {
      "text/plain": [
       "<Axes: ylabel='count'>"
      ]
     },
     "execution_count": 25,
     "metadata": {},
     "output_type": "execute_result"
    },
    {
     "data": {
      "image/png": "[encoded data removed]",
      "text/plain": [
       "<Figure size 640x480 with 1 Axes>"
      ]
     },
     "metadata": {},
     "output_type": "display_data"
    }
   ],
   "source": [
    "# Visualization for \"Subscription Status\"\n",
    "\n",
    "subscription_type = data[\"Subscription Status\"].value_counts()\n",
    "subscription_type.plot(kind = \"pie\",  autopct = '%.1f%%')"
   ]
  },
  {
   "cell_type": "code",
   "execution_count": 26,
   "id": "18e6d5b3",
   "metadata": {
    "execution": {
     "iopub.execute_input": "2024-01-24T00:56:32.150269Z",
     "iopub.status.busy": "2024-01-24T00:56:32.148881Z",
     "iopub.status.idle": "2024-01-24T00:56:32.462605Z",
     "shell.execute_reply": "2024-01-24T00:56:32.460570Z"
    },
    "papermill": {
     "duration": 0.344851,
     "end_time": "2024-01-24T00:56:32.466047",
     "exception": false,
     "start_time": "2024-01-24T00:56:32.121196",
     "status": "completed"
    },
    "tags": []
   },
   "outputs": [
    {
     "data": {
      "text/plain": [
       "<Axes: title={'center': 'Impact of Season on Purchase Amount'}, xlabel='Season', ylabel='Average Purchase Amount'>"
      ]
     },
     "execution_count": 26,
     "metadata": {},
     "output_type": "execute_result"
    },
    {
     "data": {
      "image/png": "[encoded data removed]",
      "text/plain": [
       "<Figure size 640x480 with 1 Axes>"
      ]
     },
     "metadata": {},
     "output_type": "display_data"
    }
   ],
   "source": [
    "# Visualization for \"Season\" \n",
    "\n",
    "seasons = data['Season'].unique()\n",
    "average_purchase_season = data.groupby('Season')['Purchase Amount (USD)'].mean()\n",
    "average_purchase_season.plot(kind = \"bar\", title = \"Impact of Season on Purchase Amount\", ylabel = \"Average Purchase Amount\", xlabel = \"Season\", color = ['blue','pink','red','purple'])"
   ]
  },
  {
   "cell_type": "markdown",
   "id": "61566b91",
   "metadata": {
    "papermill": {
     "duration": 0.02417,
     "end_time": "2024-01-24T00:56:32.515326",
     "exception": false,
     "start_time": "2024-01-24T00:56:32.491156",
     "status": "completed"
    },
    "tags": []
   },
   "source": [
    "Fall and Winter have the highest average purchase amount out of all the seasons. Spring and Summer average purchase amount is not far behind the higher two seasons. "
   ]
  },
  {
   "cell_type": "code",
   "execution_count": 27,
   "id": "bb9a8115",
   "metadata": {
    "execution": {
     "iopub.execute_input": "2024-01-24T00:56:32.569733Z",
     "iopub.status.busy": "2024-01-24T00:56:32.569186Z",
     "iopub.status.idle": "2024-01-24T00:56:32.875394Z",
     "shell.execute_reply": "2024-01-24T00:56:32.873727Z"
    },
    "papermill": {
     "duration": 0.335829,
     "end_time": "2024-01-24T00:56:32.878110",
     "exception": false,
     "start_time": "2024-01-24T00:56:32.542281",
     "status": "completed"
    },
    "tags": []
   },
   "outputs": [
    {
     "data": {
      "text/plain": [
       "<Axes: title={'center': 'Payment Method'}, xlabel='Payment Method', ylabel='Number of Customers'>"
      ]
     },
     "execution_count": 27,
     "metadata": {},
     "output_type": "execute_result"
    },
    {
     "data": {
      "image/png": "[encoded data removed]",
      "text/plain": [
       "<Figure size 640x480 with 1 Axes>"
      ]
     },
     "metadata": {},
     "output_type": "display_data"
    }
   ],
   "source": [
    "# Visualization for \"Payment Method\"\n",
    "\n",
    "payment_method = data[\"Payment Method\"].value_counts()\n",
    "payment_method.plot(kind = \"bar\", color = ['blue','pink','red','yellow','orange','lightblue'], title = \"Payment Method\", ylabel = \"Number of Customers\", xlabel = \"Payment Method\")"
   ]
  },
  {
   "cell_type": "code",
   "execution_count": 28,
   "id": "cbafc57a",
   "metadata": {
    "execution": {
     "iopub.execute_input": "2024-01-24T00:56:32.930244Z",
     "iopub.status.busy": "2024-01-24T00:56:32.928741Z",
     "iopub.status.idle": "2024-01-24T00:56:33.195920Z",
     "shell.execute_reply": "2024-01-24T00:56:33.194375Z"
    },
    "papermill": {
     "duration": 0.296437,
     "end_time": "2024-01-24T00:56:33.198708",
     "exception": false,
     "start_time": "2024-01-24T00:56:32.902271",
     "status": "completed"
    },
    "tags": []
   },
   "outputs": [
    {
     "data": {
      "text/plain": [
       "<Axes: title={'center': 'Shipping Method'}, ylabel='Shipping Type'>"
      ]
     },
     "execution_count": 28,
     "metadata": {},
     "output_type": "execute_result"
    },
    {
     "data": {
      "image/png": "[encoded data removed]",
      "text/plain": [
       "<Figure size 640x480 with 1 Axes>"
      ]
     },
     "metadata": {},
     "output_type": "display_data"
    }
   ],
   "source": [
    "# Visualization for \"Shipping Type\"\n",
    "\n",
    "shipping = data[\"Shipping Type\"].value_counts()\n",
    "shipping.plot(kind = \"barh\", title = \"Shipping Method\", color = ['blue','yellow','pink','red','orange','lightblue'])"
   ]
  },
  {
   "cell_type": "code",
   "execution_count": 29,
   "id": "b5d89c65",
   "metadata": {
    "execution": {
     "iopub.execute_input": "2024-01-24T00:56:33.251411Z",
     "iopub.status.busy": "2024-01-24T00:56:33.251010Z",
     "iopub.status.idle": "2024-01-24T00:56:33.385429Z",
     "shell.execute_reply": "2024-01-24T00:56:33.383738Z"
    },
    "papermill": {
     "duration": 0.164993,
     "end_time": "2024-01-24T00:56:33.388470",
     "exception": false,
     "start_time": "2024-01-24T00:56:33.223477",
     "status": "completed"
    },
    "tags": []
   },
   "outputs": [
    {
     "data": {
      "text/plain": [
       "<Axes: ylabel='count'>"
      ]
     },
     "execution_count": 29,
     "metadata": {},
     "output_type": "execute_result"
    },
    {
     "data": {
      "image/png": "[encoded data removed]",
      "text/plain": [
       "<Figure size 640x480 with 1 Axes>"
      ]
     },
     "metadata": {},
     "output_type": "display_data"
    }
   ],
   "source": [
    "# Gender distribution \n",
    "\n",
    "gender_purchase = data['Gender'].value_counts()\n",
    "gender_purchase.plot(kind = \"pie\", autopct = '%.1f%%')"
   ]
  },
  {
   "cell_type": "markdown",
   "id": "7208f0c4",
   "metadata": {
    "papermill": {
     "duration": 0.026574,
     "end_time": "2024-01-24T00:56:33.441403",
     "exception": false,
     "start_time": "2024-01-24T00:56:33.414829",
     "status": "completed"
    },
    "tags": []
   },
   "source": [
    "Males contribute to more than half of the total purchases, making up 68% while females account for only %32 of total purchases. "
   ]
  },
  {
   "cell_type": "code",
   "execution_count": 30,
   "id": "fb408ebf",
   "metadata": {
    "execution": {
     "iopub.execute_input": "2024-01-24T00:56:33.495504Z",
     "iopub.status.busy": "2024-01-24T00:56:33.494848Z",
     "iopub.status.idle": "2024-01-24T00:56:33.622301Z",
     "shell.execute_reply": "2024-01-24T00:56:33.620548Z"
    },
    "papermill": {
     "duration": 0.160882,
     "end_time": "2024-01-24T00:56:33.628174",
     "exception": false,
     "start_time": "2024-01-24T00:56:33.467292",
     "status": "completed"
    },
    "tags": []
   },
   "outputs": [
    {
     "data": {
      "text/plain": [
       "<Axes: title={'center': 'Purchases with Discount Applied'}, ylabel='count'>"
      ]
     },
     "execution_count": 30,
     "metadata": {},
     "output_type": "execute_result"
    },
    {
     "data": {
      "image/png": "[encoded data removed]",
      "text/plain": [
       "<Figure size 640x480 with 1 Axes>"
      ]
     },
     "metadata": {},
     "output_type": "display_data"
    }
   ],
   "source": [
    "# Discount applied  \n",
    "\n",
    "discount_applied = data[\"Discount Applied\"].value_counts()\n",
    "discount_applied.plot(kind = \"pie\", autopct = '%.1f%%', title = \"Purchases with Discount Applied\")"
   ]
  },
  {
   "cell_type": "code",
   "execution_count": 31,
   "id": "4f364002",
   "metadata": {
    "execution": {
     "iopub.execute_input": "2024-01-24T00:56:33.727951Z",
     "iopub.status.busy": "2024-01-24T00:56:33.727222Z",
     "iopub.status.idle": "2024-01-24T00:56:33.882774Z",
     "shell.execute_reply": "2024-01-24T00:56:33.880856Z"
    },
    "papermill": {
     "duration": 0.201926,
     "end_time": "2024-01-24T00:56:33.887901",
     "exception": false,
     "start_time": "2024-01-24T00:56:33.685975",
     "status": "completed"
    },
    "tags": []
   },
   "outputs": [
    {
     "data": {
      "text/plain": [
       "<Axes: title={'center': 'Impact of Promo Code Used on Purchase'}, ylabel='count'>"
      ]
     },
     "execution_count": 31,
     "metadata": {},
     "output_type": "execute_result"
    },
    {
     "data": {
      "image/png": "[encoded data removed]",
      "text/plain": [
       "<Figure size 640x480 with 1 Axes>"
      ]
     },
     "metadata": {},
     "output_type": "display_data"
    }
   ],
   "source": [
    "# Promo code used \n",
    "\n",
    "promocode_used = data[\"Promo Code Used\"].value_counts()\n",
    "promocode_used.plot(kind = \"pie\", autopct = '%.1f%%', title = \"Impact of Promo Code Used on Purchase\")"
   ]
  },
  {
   "cell_type": "markdown",
   "id": "af84bdc1",
   "metadata": {
    "papermill": {
     "duration": 0.028023,
     "end_time": "2024-01-24T00:56:33.973034",
     "exception": false,
     "start_time": "2024-01-24T00:56:33.945011",
     "status": "completed"
    },
    "tags": []
   },
   "source": [
    "Discount and promo codes do not have a significant impact on purchasing behaviors. "
   ]
  },
  {
   "cell_type": "markdown",
   "id": "49020822",
   "metadata": {
    "papermill": {
     "duration": 0.028471,
     "end_time": "2024-01-24T00:56:34.032332",
     "exception": false,
     "start_time": "2024-01-24T00:56:34.003861",
     "status": "completed"
    },
    "tags": []
   },
   "source": [
    "# Conclusion\n",
    "\n",
    "* Customers make more purchases during winter and autumn compared to summer and spring. \n",
    "* The clothing category is the most popular among the locations with outerwear having a slightly lower amount than the other categories.\n",
    "* Males make up 67% of total purchases with females accounting for 32% of the total.\n",
    "* Montana has the most customers out of all locations.\n",
    "* The average order value is $60.00\n",
    "* Customers prefer Free Shipping\n",
    "* Clothing is the most popular category among all customers and consumer demographics. \n",
    "* 73% of the customers are not subscribers.\n",
    "* Customers using discounts and promotional codes does not have a significant impact on purchase behaviors.\n",
    "\n",
    "\n",
    "The analysis of customer purchase behavior has unconvered valuable insights. Seasonality, gender, item categories and subscription type all play a role in purchase patterns. The data indicates that Montana makes up a big part of the consumer market for these products, preferring clothing. These findings can inform market strategies, product offerings, and promotions to more effectively target consumers. "
   ]
  },
  {
   "cell_type": "code",
   "execution_count": null,
   "id": "a5508b0e",
   "metadata": {
    "papermill": {
     "duration": 0.030116,
     "end_time": "2024-01-24T00:56:34.149621",
     "exception": false,
     "start_time": "2024-01-24T00:56:34.119505",
     "status": "completed"
    },
    "tags": []
   },
   "outputs": [],
   "source": []
  }
 ],
 "metadata": {
  "kaggle": {
   "accelerator": "none",
   "dataSources": [
    {
     "datasetId": 3881446,
     "sourceId": 6740173,
     "sourceType": "datasetVersion"
    }
   ],
   "dockerImageVersionId": 30615,
   "isGpuEnabled": false,
   "isInternetEnabled": true,
   "language": "python",
   "sourceType": "notebook"
  },
  "kernelspec": {
   "display_name": "Python 3",
   "language": "python",
   "name": "python3"
  },
  "language_info": {
   "codemirror_mode": {
    "name": "ipython",
    "version": 3
   },
   "file_extension": ".py",
   "mimetype": "text/x-python",
   "name": "python",
   "nbconvert_exporter": "python",
   "pygments_lexer": "ipython3",
   "version": "3.10.12"
  },
  "papermill": {
   "default_parameters": {},
   "duration": 13.821281,
   "end_time": "2024-01-24T00:56:34.802537",
   "environment_variables": {},
   "exception": null,
   "input_path": "__notebook__.ipynb",
   "output_path": "__notebook__.ipynb",
   "parameters": {},
   "start_time": "2024-01-24T00:56:20.981256",
   "version": "2.4.0"
  }
 },
 "nbformat": 4,
 "nbformat_minor": 5
}
