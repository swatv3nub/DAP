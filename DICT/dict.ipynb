{
 "cells": [
  {
   "cell_type": "code",
   "execution_count": 1,
   "metadata": {},
   "outputs": [
    {
     "name": "stdout",
     "output_type": "stream",
     "text": [
      "{1, 2, 3}\n"
     ]
    }
   ],
   "source": [
    "my_dict = {'a': 1, 'b': 2, 'c': 1, 'd': 3, 'e': 2}\n",
    "unique_values = set(my_dict.values())\n",
    "print(unique_values)\n"
   ]
  },
  {
   "cell_type": "code",
   "execution_count": 2,
   "metadata": {},
   "outputs": [
    {
     "name": "stdout",
     "output_type": "stream",
     "text": [
      "9\n"
     ]
    }
   ],
   "source": [
    "my_dict = {'a': 1, 'b': 2, 'c': 1, 'd': 3, 'e': 2}\n",
    "sum_of_values = sum(my_dict.values())\n",
    "print(sum_of_values)\n"
   ]
  },
  {
   "cell_type": "code",
   "execution_count": 3,
   "metadata": {},
   "outputs": [
    {
     "name": "stdout",
     "output_type": "stream",
     "text": [
      "{'a': 1, 'c': 3}\n"
     ]
    }
   ],
   "source": [
    "my_dict = {'a': 1, 'b': 2, 'c': 3}\n",
    "del my_dict['b']\n",
    "print(my_dict)\n"
   ]
  },
  {
   "cell_type": "code",
   "execution_count": 4,
   "metadata": {},
   "outputs": [
    {
     "name": "stdout",
     "output_type": "stream",
     "text": [
      "[{'name': 'Deba', 'age': 20}, {'name': 'Swanit', 'age': 21}, {'name': 'Kulu', 'age': 21}]\n"
     ]
    }
   ],
   "source": [
    "from operator import itemgetter\n",
    "data = [{'name': 'Swanit', 'age': 21}, {'name': 'Deba', 'age': 20}, {'name': 'Kulu', 'age': 21}]\n",
    "sorted_data = sorted(data, key=itemgetter('age'))\n",
    "print(sorted_data)\n"
   ]
  },
  {
   "cell_type": "code",
   "execution_count": 5,
   "metadata": {},
   "outputs": [
    {
     "name": "stdout",
     "output_type": "stream",
     "text": [
      "[{'name': 'Deba', 'age': 20}, {'name': 'Swanit', 'age': 21}, {'name': 'Kulu', 'age': 21}]\n"
     ]
    }
   ],
   "source": [
    "data = [{'name': 'Swanit', 'age': 21}, {'name': 'Deba', 'age': 20}, {'name': 'Kulu', 'age': 21}]\n",
    "sorted_data = sorted(data, key=lambda x: x['age'])\n",
    "print(sorted_data)\n"
   ]
  },
  {
   "cell_type": "code",
   "execution_count": 16,
   "metadata": {},
   "outputs": [
    {
     "name": "stdout",
     "output_type": "stream",
     "text": [
      "{'a': 1, 'b': 2, 'c': 3, 'd': 4}\n"
     ]
    }
   ],
   "source": [
    "dict1 = {'a': 1, 'b': 2}\n",
    "dictX = {'c': 3, 'd': 4}\n",
    "\n",
    "dict1.update(dictX)\n",
    "print(dict1)\n"
   ]
  },
  {
   "cell_type": "code",
   "execution_count": 8,
   "metadata": {},
   "outputs": [
    {
     "name": "stdout",
     "output_type": "stream",
     "text": [
      "{'k1': 'v1', 'k2': 'v2', 'k3': 'v3'}\n"
     ]
    }
   ],
   "source": [
    "keys = [('k1', 'v1'), ('k2', 'v2'), ('k3', 'v3')]\n",
    "flat_dict = {key: value for key, value in keys}\n",
    "print(flat_dict)\n"
   ]
  },
  {
   "cell_type": "code",
   "execution_count": 11,
   "metadata": {},
   "outputs": [
    {
     "name": "stdout",
     "output_type": "stream",
     "text": [
      "False\n"
     ]
    }
   ],
   "source": [
    "from collections import OrderedDict\n",
    "\n",
    "def check_order_of_characters(string):\n",
    "    ordered_dict = OrderedDict()\n",
    "    for char in string:\n",
    "        ordered_dict[char] = ordered_dict.get(char, 0) + 1\n",
    "    \n",
    "    ordered_string = ''.join(ordered_dict.keys())\n",
    "    return ordered_string == string\n",
    "\n",
    "string = \"hello\"\n",
    "is_ordered = check_order_of_characters(string)\n",
    "print(is_ordered)\n"
   ]
  },
  {
   "cell_type": "code",
   "execution_count": 12,
   "metadata": {},
   "outputs": [
    {
     "name": "stdout",
     "output_type": "stream",
     "text": [
      "The winner of the election is: Modi\n"
     ]
    }
   ],
   "source": [
    "from collections import Counter\n",
    "\n",
    "votes = ['Modi', 'Rahul', 'Modi', 'Kejriwal', 'Rahul', 'Modi']\n",
    "\n",
    "vote_count = Counter(votes)\n",
    "winner = vote_count.most_common(1)[0][0]\n",
    "\n",
    "print(\"The winner of the election is:\", winner)\n"
   ]
  },
  {
   "cell_type": "code",
   "execution_count": 13,
   "metadata": {},
   "outputs": [
    {
     "name": "stdout",
     "output_type": "stream",
     "text": [
      "{'a': 1, 'b': 2, 'c': 3, 'd': 4}\n"
     ]
    }
   ],
   "source": [
    "dict1 = {'a': 1, 'b': 2}\n",
    "dict2 = {'c': 3, 'd': 4}\n",
    "\n",
    "dict1.update(dict2)\n",
    "print(dict1)\n"
   ]
  },
  {
   "cell_type": "code",
   "execution_count": 1,
   "metadata": {},
   "outputs": [
    {
     "name": "stdout",
     "output_type": "stream",
     "text": [
      "{'a': 1, 'b': 2, 'c': 3, 'd': 4}\n"
     ]
    }
   ],
   "source": [
    "my_dict = {'b': 2, 'a': 1, 'd': 4, 'c': 3}\n",
    "sorted_dict_by_value = dict(sorted(my_dict.items(), key=lambda x: x[1]))\n",
    "print(sorted_dict_by_value)\n"
   ]
  },
  {
   "cell_type": "code",
   "execution_count": 3,
   "metadata": {},
   "outputs": [
    {
     "name": "stdout",
     "output_type": "stream",
     "text": [
      "{'a': 1, 'b': 3, 'c': 2, 'd': 4}\n",
      "{'a': 1, 'c': 2, 'b': 3, 'd': 4}\n"
     ]
    }
   ],
   "source": [
    "my_dict = {'b': 3, 'a': 1, 'd': 4, 'c': 2}\n",
    "\n",
    "# Sort by keys\n",
    "sorted_dict_by_key = dict(sorted(my_dict.items(), key=lambda x: x[0]))\n",
    "print(sorted_dict_by_key)\n",
    "\n",
    "# Sort by values\n",
    "sorted_dict_by_value = dict(sorted(my_dict.items(), key=lambda x: x[1]))\n",
    "print(sorted_dict_by_value)\n"
   ]
  },
  {
   "cell_type": "code",
   "execution_count": 5,
   "metadata": {},
   "outputs": [
    {
     "name": "stdout",
     "output_type": "stream",
     "text": [
      "1\n"
     ]
    }
   ],
   "source": [
    "my_dict = {'a': 1, 'b': 2, 'c': 3}\n",
    "value = my_dict.get('a', 'default_value')\n",
    "print(value)\n"
   ]
  }
 ],
 "metadata": {
  "kernelspec": {
   "display_name": "Python 3",
   "language": "python",
   "name": "python3"
  },
  "language_info": {
   "codemirror_mode": {
    "name": "ipython",
    "version": 3
   },
   "file_extension": ".py",
   "mimetype": "text/x-python",
   "name": "python",
   "nbconvert_exporter": "python",
   "pygments_lexer": "ipython3",
   "version": "3.11.5"
  }
 },
 "nbformat": 4,
 "nbformat_minor": 2
}
